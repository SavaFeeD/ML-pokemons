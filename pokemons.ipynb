{
 "cells": [
  {
   "cell_type": "code",
   "execution_count": 1,
   "id": "7a73c974",
   "metadata": {
    "_cell_guid": "b1076dfc-b9ad-4769-8c92-a6c4dae69d19",
    "_uuid": "8f2839f25d086af736a60e9eeb907d3b93b6e0e5",
    "execution": {
     "iopub.execute_input": "2022-02-04T09:44:59.182915Z",
     "iopub.status.busy": "2022-02-04T09:44:59.182009Z",
     "iopub.status.idle": "2022-02-04T09:45:00.379856Z",
     "shell.execute_reply": "2022-02-04T09:45:00.380324Z",
     "shell.execute_reply.started": "2022-02-04T04:00:36.376055Z"
    },
    "papermill": {
     "duration": 1.252021,
     "end_time": "2022-02-04T09:45:00.380626",
     "exception": false,
     "start_time": "2022-02-04T09:44:59.128605",
     "status": "completed"
    },
    "tags": []
   },
   "outputs": [
    {
     "name": "stdout",
     "output_type": "stream",
     "text": [
      "/kaggle/input/all-pokemon-dataset/All_Pokemon.csv\n"
     ]
    }
   ],
   "source": [
    "import numpy as np\n",
    "import pandas as pd\n",
    "import matplotlib.pyplot as plt\n",
    "import seaborn as sns\n",
    "\n",
    "from sklearn import preprocessing\n",
    "\n",
    "import os\n",
    "for dirname, _, filenames in os.walk('/kaggle/input'):\n",
    "    for filename in filenames:\n",
    "        print(os.path.join(dirname, filename))"
   ]
  },
  {
   "cell_type": "markdown",
   "id": "81933f9d",
   "metadata": {
    "papermill": {
     "duration": 0.042209,
     "end_time": "2022-02-04T09:45:00.468832",
     "exception": false,
     "start_time": "2022-02-04T09:45:00.426623",
     "status": "completed"
    },
    "tags": []
   },
   "source": [
    "изначальный набор данных, описание параметров на ходится на страничке набора данных на кагле"
   ]
  },
  {
   "cell_type": "code",
   "execution_count": 2,
   "id": "7304dc05",
   "metadata": {
    "execution": {
     "iopub.execute_input": "2022-02-04T09:45:00.560772Z",
     "iopub.status.busy": "2022-02-04T09:45:00.560032Z",
     "iopub.status.idle": "2022-02-04T09:45:00.620990Z",
     "shell.execute_reply": "2022-02-04T09:45:00.621511Z",
     "shell.execute_reply.started": "2022-02-04T04:00:36.391809Z"
    },
    "papermill": {
     "duration": 0.109454,
     "end_time": "2022-02-04T09:45:00.621704",
     "exception": false,
     "start_time": "2022-02-04T09:45:00.512250",
     "status": "completed"
    },
    "tags": []
   },
   "outputs": [
    {
     "data": {
      "text/html": [
       "<div>\n",
       "<style scoped>\n",
       "    .dataframe tbody tr th:only-of-type {\n",
       "        vertical-align: middle;\n",
       "    }\n",
       "\n",
       "    .dataframe tbody tr th {\n",
       "        vertical-align: top;\n",
       "    }\n",
       "\n",
       "    .dataframe thead th {\n",
       "        text-align: right;\n",
       "    }\n",
       "</style>\n",
       "<table border=\"1\" class=\"dataframe\">\n",
       "  <thead>\n",
       "    <tr style=\"text-align: right;\">\n",
       "      <th></th>\n",
       "      <th>Number</th>\n",
       "      <th>Name</th>\n",
       "      <th>Type 1</th>\n",
       "      <th>Type 2</th>\n",
       "      <th>Abilities</th>\n",
       "      <th>HP</th>\n",
       "      <th>Att</th>\n",
       "      <th>Def</th>\n",
       "      <th>Spa</th>\n",
       "      <th>Spd</th>\n",
       "      <th>...</th>\n",
       "      <th>Against Bug</th>\n",
       "      <th>Against Rock</th>\n",
       "      <th>Against Ghost</th>\n",
       "      <th>Against Dragon</th>\n",
       "      <th>Against Dark</th>\n",
       "      <th>Against Steel</th>\n",
       "      <th>Against Fairy</th>\n",
       "      <th>Height</th>\n",
       "      <th>Weight</th>\n",
       "      <th>BMI</th>\n",
       "    </tr>\n",
       "  </thead>\n",
       "  <tbody>\n",
       "    <tr>\n",
       "      <th>0</th>\n",
       "      <td>1</td>\n",
       "      <td>Bulbasaur</td>\n",
       "      <td>Grass</td>\n",
       "      <td>Poison</td>\n",
       "      <td>['Chlorophyll', 'Overgrow']</td>\n",
       "      <td>45</td>\n",
       "      <td>49</td>\n",
       "      <td>49</td>\n",
       "      <td>65</td>\n",
       "      <td>65</td>\n",
       "      <td>...</td>\n",
       "      <td>1.0</td>\n",
       "      <td>1.0</td>\n",
       "      <td>1.0</td>\n",
       "      <td>1.0</td>\n",
       "      <td>1.0</td>\n",
       "      <td>1.0</td>\n",
       "      <td>0.5</td>\n",
       "      <td>0.7</td>\n",
       "      <td>6.9</td>\n",
       "      <td>14.1</td>\n",
       "    </tr>\n",
       "    <tr>\n",
       "      <th>1</th>\n",
       "      <td>2</td>\n",
       "      <td>Ivysaur</td>\n",
       "      <td>Grass</td>\n",
       "      <td>Poison</td>\n",
       "      <td>['Chlorophyll', 'Overgrow']</td>\n",
       "      <td>60</td>\n",
       "      <td>62</td>\n",
       "      <td>63</td>\n",
       "      <td>80</td>\n",
       "      <td>80</td>\n",
       "      <td>...</td>\n",
       "      <td>1.0</td>\n",
       "      <td>1.0</td>\n",
       "      <td>1.0</td>\n",
       "      <td>1.0</td>\n",
       "      <td>1.0</td>\n",
       "      <td>1.0</td>\n",
       "      <td>0.5</td>\n",
       "      <td>1.0</td>\n",
       "      <td>13.0</td>\n",
       "      <td>13.0</td>\n",
       "    </tr>\n",
       "    <tr>\n",
       "      <th>2</th>\n",
       "      <td>3</td>\n",
       "      <td>Venusaur</td>\n",
       "      <td>Grass</td>\n",
       "      <td>Poison</td>\n",
       "      <td>['Chlorophyll', 'Overgrow']</td>\n",
       "      <td>80</td>\n",
       "      <td>82</td>\n",
       "      <td>83</td>\n",
       "      <td>100</td>\n",
       "      <td>100</td>\n",
       "      <td>...</td>\n",
       "      <td>1.0</td>\n",
       "      <td>1.0</td>\n",
       "      <td>1.0</td>\n",
       "      <td>1.0</td>\n",
       "      <td>1.0</td>\n",
       "      <td>1.0</td>\n",
       "      <td>0.5</td>\n",
       "      <td>2.0</td>\n",
       "      <td>100.0</td>\n",
       "      <td>25.0</td>\n",
       "    </tr>\n",
       "    <tr>\n",
       "      <th>3</th>\n",
       "      <td>3</td>\n",
       "      <td>Mega Venusaur</td>\n",
       "      <td>Grass</td>\n",
       "      <td>Poison</td>\n",
       "      <td>['Thick Fat']</td>\n",
       "      <td>80</td>\n",
       "      <td>100</td>\n",
       "      <td>123</td>\n",
       "      <td>122</td>\n",
       "      <td>120</td>\n",
       "      <td>...</td>\n",
       "      <td>1.0</td>\n",
       "      <td>1.0</td>\n",
       "      <td>1.0</td>\n",
       "      <td>1.0</td>\n",
       "      <td>1.0</td>\n",
       "      <td>1.0</td>\n",
       "      <td>0.5</td>\n",
       "      <td>2.4</td>\n",
       "      <td>155.5</td>\n",
       "      <td>27.0</td>\n",
       "    </tr>\n",
       "    <tr>\n",
       "      <th>4</th>\n",
       "      <td>4</td>\n",
       "      <td>Charmander</td>\n",
       "      <td>Fire</td>\n",
       "      <td>NaN</td>\n",
       "      <td>['Blaze', 'Solar Power']</td>\n",
       "      <td>39</td>\n",
       "      <td>52</td>\n",
       "      <td>43</td>\n",
       "      <td>60</td>\n",
       "      <td>50</td>\n",
       "      <td>...</td>\n",
       "      <td>0.5</td>\n",
       "      <td>2.0</td>\n",
       "      <td>1.0</td>\n",
       "      <td>1.0</td>\n",
       "      <td>1.0</td>\n",
       "      <td>0.5</td>\n",
       "      <td>0.5</td>\n",
       "      <td>0.6</td>\n",
       "      <td>8.5</td>\n",
       "      <td>23.6</td>\n",
       "    </tr>\n",
       "  </tbody>\n",
       "</table>\n",
       "<p>5 rows × 44 columns</p>\n",
       "</div>"
      ],
      "text/plain": [
       "   Number           Name Type 1  Type 2                    Abilities  HP  Att  \\\n",
       "0       1      Bulbasaur  Grass  Poison  ['Chlorophyll', 'Overgrow']  45   49   \n",
       "1       2        Ivysaur  Grass  Poison  ['Chlorophyll', 'Overgrow']  60   62   \n",
       "2       3       Venusaur  Grass  Poison  ['Chlorophyll', 'Overgrow']  80   82   \n",
       "3       3  Mega Venusaur  Grass  Poison                ['Thick Fat']  80  100   \n",
       "4       4     Charmander   Fire     NaN     ['Blaze', 'Solar Power']  39   52   \n",
       "\n",
       "   Def  Spa  Spd  ...  Against Bug  Against Rock  Against Ghost  \\\n",
       "0   49   65   65  ...          1.0           1.0            1.0   \n",
       "1   63   80   80  ...          1.0           1.0            1.0   \n",
       "2   83  100  100  ...          1.0           1.0            1.0   \n",
       "3  123  122  120  ...          1.0           1.0            1.0   \n",
       "4   43   60   50  ...          0.5           2.0            1.0   \n",
       "\n",
       "   Against Dragon  Against Dark Against Steel  Against Fairy  Height  Weight  \\\n",
       "0             1.0           1.0           1.0            0.5     0.7     6.9   \n",
       "1             1.0           1.0           1.0            0.5     1.0    13.0   \n",
       "2             1.0           1.0           1.0            0.5     2.0   100.0   \n",
       "3             1.0           1.0           1.0            0.5     2.4   155.5   \n",
       "4             1.0           1.0           0.5            0.5     0.6     8.5   \n",
       "\n",
       "    BMI  \n",
       "0  14.1  \n",
       "1  13.0  \n",
       "2  25.0  \n",
       "3  27.0  \n",
       "4  23.6  \n",
       "\n",
       "[5 rows x 44 columns]"
      ]
     },
     "execution_count": 2,
     "metadata": {},
     "output_type": "execute_result"
    }
   ],
   "source": [
    "df = pd.read_csv('../input/all-pokemon-dataset/All_Pokemon.csv')\n",
    "df.head()"
   ]
  },
  {
   "cell_type": "markdown",
   "id": "78ab5c5b",
   "metadata": {
    "papermill": {
     "duration": 0.043876,
     "end_time": "2022-02-04T09:45:00.710312",
     "exception": false,
     "start_time": "2022-02-04T09:45:00.666436",
     "status": "completed"
    },
    "tags": []
   },
   "source": [
    "все столбцы"
   ]
  },
  {
   "cell_type": "code",
   "execution_count": 3,
   "id": "3846c701",
   "metadata": {
    "execution": {
     "iopub.execute_input": "2022-02-04T09:45:00.799829Z",
     "iopub.status.busy": "2022-02-04T09:45:00.799220Z",
     "iopub.status.idle": "2022-02-04T09:45:00.806195Z",
     "shell.execute_reply": "2022-02-04T09:45:00.805615Z",
     "shell.execute_reply.started": "2022-02-04T04:00:36.451334Z"
    },
    "papermill": {
     "duration": 0.052606,
     "end_time": "2022-02-04T09:45:00.806338",
     "exception": false,
     "start_time": "2022-02-04T09:45:00.753732",
     "status": "completed"
    },
    "tags": []
   },
   "outputs": [
    {
     "data": {
      "text/plain": [
       "Index(['Number', 'Name', 'Type 1', 'Type 2', 'Abilities', 'HP', 'Att', 'Def',\n",
       "       'Spa', 'Spd', 'Spe', 'BST', 'Mean', 'Standard Deviation', 'Generation',\n",
       "       'Experience type', 'Experience to level 100', 'Final Evolution',\n",
       "       'Catch Rate', 'Legendary', 'Mega Evolution', 'Alolan Form',\n",
       "       'Galarian Form', 'Against Normal', 'Against Fire', 'Against Water',\n",
       "       'Against Electric', 'Against Grass', 'Against Ice', 'Against Fighting',\n",
       "       'Against Poison', 'Against Ground', 'Against Flying', 'Against Psychic',\n",
       "       'Against Bug', 'Against Rock', 'Against Ghost', 'Against Dragon',\n",
       "       'Against Dark', 'Against Steel', 'Against Fairy', 'Height', 'Weight',\n",
       "       'BMI'],\n",
       "      dtype='object')"
      ]
     },
     "execution_count": 3,
     "metadata": {},
     "output_type": "execute_result"
    }
   ],
   "source": [
    "df.columns"
   ]
  },
  {
   "cell_type": "markdown",
   "id": "837a019b",
   "metadata": {
    "papermill": {
     "duration": 0.043093,
     "end_time": "2022-02-04T09:45:00.893425",
     "exception": false,
     "start_time": "2022-02-04T09:45:00.850332",
     "status": "completed"
    },
    "tags": []
   },
   "source": [
    "убираем столбцы которые не влияют на результат кластеризации или вовсе мешают"
   ]
  },
  {
   "cell_type": "code",
   "execution_count": 4,
   "id": "f71902e5",
   "metadata": {
    "execution": {
     "iopub.execute_input": "2022-02-04T09:45:00.987348Z",
     "iopub.status.busy": "2022-02-04T09:45:00.986643Z",
     "iopub.status.idle": "2022-02-04T09:45:00.989612Z",
     "shell.execute_reply": "2022-02-04T09:45:00.989120Z",
     "shell.execute_reply.started": "2022-02-04T04:00:36.46215Z"
    },
    "papermill": {
     "duration": 0.053297,
     "end_time": "2022-02-04T09:45:00.989789",
     "exception": false,
     "start_time": "2022-02-04T09:45:00.936492",
     "status": "completed"
    },
    "tags": []
   },
   "outputs": [],
   "source": [
    "cols = [col for col in df.columns if 'Against' in col or 'Form' in col or 'Experience' in col]"
   ]
  },
  {
   "cell_type": "code",
   "execution_count": 5,
   "id": "2906ca6b",
   "metadata": {
    "execution": {
     "iopub.execute_input": "2022-02-04T09:45:01.083081Z",
     "iopub.status.busy": "2022-02-04T09:45:01.082383Z",
     "iopub.status.idle": "2022-02-04T09:45:01.087276Z",
     "shell.execute_reply": "2022-02-04T09:45:01.087868Z",
     "shell.execute_reply.started": "2022-02-04T04:00:36.483749Z"
    },
    "papermill": {
     "duration": 0.054854,
     "end_time": "2022-02-04T09:45:01.088056",
     "exception": false,
     "start_time": "2022-02-04T09:45:01.033202",
     "status": "completed"
    },
    "tags": []
   },
   "outputs": [
    {
     "data": {
      "text/plain": [
       "['Experience type',\n",
       " 'Experience to level 100',\n",
       " 'Alolan Form',\n",
       " 'Galarian Form',\n",
       " 'Against Normal',\n",
       " 'Against Fire',\n",
       " 'Against Water',\n",
       " 'Against Electric',\n",
       " 'Against Grass',\n",
       " 'Against Ice',\n",
       " 'Against Fighting',\n",
       " 'Against Poison',\n",
       " 'Against Ground',\n",
       " 'Against Flying',\n",
       " 'Against Psychic',\n",
       " 'Against Bug',\n",
       " 'Against Rock',\n",
       " 'Against Ghost',\n",
       " 'Against Dragon',\n",
       " 'Against Dark',\n",
       " 'Against Steel',\n",
       " 'Against Fairy']"
      ]
     },
     "execution_count": 5,
     "metadata": {},
     "output_type": "execute_result"
    }
   ],
   "source": [
    "cols"
   ]
  },
  {
   "cell_type": "code",
   "execution_count": 6,
   "id": "9e44fa8e",
   "metadata": {
    "execution": {
     "iopub.execute_input": "2022-02-04T09:45:01.179387Z",
     "iopub.status.busy": "2022-02-04T09:45:01.178756Z",
     "iopub.status.idle": "2022-02-04T09:45:01.186497Z",
     "shell.execute_reply": "2022-02-04T09:45:01.187023Z",
     "shell.execute_reply.started": "2022-02-04T04:00:36.501801Z"
    },
    "papermill": {
     "duration": 0.054864,
     "end_time": "2022-02-04T09:45:01.187202",
     "exception": false,
     "start_time": "2022-02-04T09:45:01.132338",
     "status": "completed"
    },
    "tags": []
   },
   "outputs": [],
   "source": [
    "df = df.drop(cols, axis=1)"
   ]
  },
  {
   "cell_type": "markdown",
   "id": "34b6d85c",
   "metadata": {
    "papermill": {
     "duration": 0.044599,
     "end_time": "2022-02-04T09:45:01.276154",
     "exception": false,
     "start_time": "2022-02-04T09:45:01.231555",
     "status": "completed"
    },
    "tags": []
   },
   "source": [
    "смотрим на оставшиеся параметры от исходного набора данных после очистки от лишних параметров"
   ]
  },
  {
   "cell_type": "code",
   "execution_count": 7,
   "id": "1b6c9097",
   "metadata": {
    "execution": {
     "iopub.execute_input": "2022-02-04T09:45:01.367711Z",
     "iopub.status.busy": "2022-02-04T09:45:01.367057Z",
     "iopub.status.idle": "2022-02-04T09:45:01.398394Z",
     "shell.execute_reply": "2022-02-04T09:45:01.397818Z",
     "shell.execute_reply.started": "2022-02-04T04:00:36.519599Z"
    },
    "papermill": {
     "duration": 0.078359,
     "end_time": "2022-02-04T09:45:01.398547",
     "exception": false,
     "start_time": "2022-02-04T09:45:01.320188",
     "status": "completed"
    },
    "tags": []
   },
   "outputs": [
    {
     "name": "stdout",
     "output_type": "stream",
     "text": [
      "\n",
      "\n",
      "Number\n",
      "\n",
      "0    1\n",
      "1    2\n",
      "2    3\n",
      "3    3\n",
      "4    4\n",
      "Name: Number, dtype: int64\n",
      "---------------------------------------------\n",
      "\n",
      "\n",
      "Name\n",
      "\n",
      "0        Bulbasaur\n",
      "1          Ivysaur\n",
      "2         Venusaur\n",
      "3    Mega Venusaur\n",
      "4       Charmander\n",
      "Name: Name, dtype: object\n",
      "---------------------------------------------\n",
      "\n",
      "\n",
      "Type 1\n",
      "\n",
      "0    Grass\n",
      "1    Grass\n",
      "2    Grass\n",
      "3    Grass\n",
      "4     Fire\n",
      "Name: Type 1, dtype: object\n",
      "---------------------------------------------\n",
      "\n",
      "\n",
      "Type 2\n",
      "\n",
      "0    Poison\n",
      "1    Poison\n",
      "2    Poison\n",
      "3    Poison\n",
      "4       NaN\n",
      "Name: Type 2, dtype: object\n",
      "---------------------------------------------\n",
      "\n",
      "\n",
      "Abilities\n",
      "\n",
      "0    ['Chlorophyll', 'Overgrow']\n",
      "1    ['Chlorophyll', 'Overgrow']\n",
      "2    ['Chlorophyll', 'Overgrow']\n",
      "3                  ['Thick Fat']\n",
      "4       ['Blaze', 'Solar Power']\n",
      "Name: Abilities, dtype: object\n",
      "---------------------------------------------\n",
      "\n",
      "\n",
      "HP\n",
      "\n",
      "0    45\n",
      "1    60\n",
      "2    80\n",
      "3    80\n",
      "4    39\n",
      "Name: HP, dtype: int64\n",
      "---------------------------------------------\n",
      "\n",
      "\n",
      "Att\n",
      "\n",
      "0     49\n",
      "1     62\n",
      "2     82\n",
      "3    100\n",
      "4     52\n",
      "Name: Att, dtype: int64\n",
      "---------------------------------------------\n",
      "\n",
      "\n",
      "Def\n",
      "\n",
      "0     49\n",
      "1     63\n",
      "2     83\n",
      "3    123\n",
      "4     43\n",
      "Name: Def, dtype: int64\n",
      "---------------------------------------------\n",
      "\n",
      "\n",
      "Spa\n",
      "\n",
      "0     65\n",
      "1     80\n",
      "2    100\n",
      "3    122\n",
      "4     60\n",
      "Name: Spa, dtype: int64\n",
      "---------------------------------------------\n",
      "\n",
      "\n",
      "Spd\n",
      "\n",
      "0     65\n",
      "1     80\n",
      "2    100\n",
      "3    120\n",
      "4     50\n",
      "Name: Spd, dtype: int64\n",
      "---------------------------------------------\n",
      "\n",
      "\n",
      "Spe\n",
      "\n",
      "0    45\n",
      "1    60\n",
      "2    80\n",
      "3    80\n",
      "4    65\n",
      "Name: Spe, dtype: int64\n",
      "---------------------------------------------\n",
      "\n",
      "\n",
      "BST\n",
      "\n",
      "0    318\n",
      "1    405\n",
      "2    525\n",
      "3    625\n",
      "4    309\n",
      "Name: BST, dtype: int64\n",
      "---------------------------------------------\n",
      "\n",
      "\n",
      "Mean\n",
      "\n",
      "0     53.000000\n",
      "1     67.500000\n",
      "2     87.500000\n",
      "3    104.166667\n",
      "4     51.500000\n",
      "Name: Mean, dtype: float64\n",
      "---------------------------------------------\n",
      "\n",
      "\n",
      "Standard Deviation\n",
      "\n",
      "0     8.640988\n",
      "1     8.902247\n",
      "2     8.902247\n",
      "3    18.747592\n",
      "4     8.995369\n",
      "Name: Standard Deviation, dtype: float64\n",
      "---------------------------------------------\n",
      "\n",
      "\n",
      "Generation\n",
      "\n",
      "0    1.0\n",
      "1    1.0\n",
      "2    1.0\n",
      "3    6.0\n",
      "4    1.0\n",
      "Name: Generation, dtype: float64\n",
      "---------------------------------------------\n",
      "\n",
      "\n",
      "Final Evolution\n",
      "\n",
      "0    0.0\n",
      "1    0.0\n",
      "2    1.0\n",
      "3    1.0\n",
      "4    0.0\n",
      "Name: Final Evolution, dtype: float64\n",
      "---------------------------------------------\n",
      "\n",
      "\n",
      "Catch Rate\n",
      "\n",
      "0    45\n",
      "1    45\n",
      "2    45\n",
      "3    45\n",
      "4    45\n",
      "Name: Catch Rate, dtype: int64\n",
      "---------------------------------------------\n",
      "\n",
      "\n",
      "Legendary\n",
      "\n",
      "0    0.0\n",
      "1    0.0\n",
      "2    0.0\n",
      "3    0.0\n",
      "4    0.0\n",
      "Name: Legendary, dtype: float64\n",
      "---------------------------------------------\n",
      "\n",
      "\n",
      "Mega Evolution\n",
      "\n",
      "0    0.0\n",
      "1    0.0\n",
      "2    0.0\n",
      "3    1.0\n",
      "4    0.0\n",
      "Name: Mega Evolution, dtype: float64\n",
      "---------------------------------------------\n",
      "\n",
      "\n",
      "Height\n",
      "\n",
      "0    0.7\n",
      "1    1.0\n",
      "2    2.0\n",
      "3    2.4\n",
      "4    0.6\n",
      "Name: Height, dtype: float64\n",
      "---------------------------------------------\n",
      "\n",
      "\n",
      "Weight\n",
      "\n",
      "0      6.9\n",
      "1     13.0\n",
      "2    100.0\n",
      "3    155.5\n",
      "4      8.5\n",
      "Name: Weight, dtype: float64\n",
      "---------------------------------------------\n",
      "\n",
      "\n",
      "BMI\n",
      "\n",
      "0    14.1\n",
      "1    13.0\n",
      "2    25.0\n",
      "3    27.0\n",
      "4    23.6\n",
      "Name: BMI, dtype: float64\n",
      "---------------------------------------------\n"
     ]
    }
   ],
   "source": [
    "for col in df.columns:\n",
    "    print()\n",
    "    print()\n",
    "    print(col)\n",
    "    print()\n",
    "    print(df[col].head())\n",
    "    print('---------------------------------------------')"
   ]
  },
  {
   "cell_type": "code",
   "execution_count": 8,
   "id": "1b74f350",
   "metadata": {
    "execution": {
     "iopub.execute_input": "2022-02-04T09:45:01.498454Z",
     "iopub.status.busy": "2022-02-04T09:45:01.497786Z",
     "iopub.status.idle": "2022-02-04T09:45:01.500369Z",
     "shell.execute_reply": "2022-02-04T09:45:01.500939Z",
     "shell.execute_reply.started": "2022-02-04T04:00:36.576483Z"
    },
    "papermill": {
     "duration": 0.054643,
     "end_time": "2022-02-04T09:45:01.501123",
     "exception": false,
     "start_time": "2022-02-04T09:45:01.446480",
     "status": "completed"
    },
    "tags": []
   },
   "outputs": [
    {
     "data": {
      "text/plain": [
       "(1032, 22)"
      ]
     },
     "execution_count": 8,
     "metadata": {},
     "output_type": "execute_result"
    }
   ],
   "source": [
    "df.shape"
   ]
  },
  {
   "cell_type": "markdown",
   "id": "32a4e86d",
   "metadata": {
    "papermill": {
     "duration": 0.046585,
     "end_time": "2022-02-04T09:45:01.592305",
     "exception": false,
     "start_time": "2022-02-04T09:45:01.545720",
     "status": "completed"
    },
    "tags": []
   },
   "source": [
    "смотрим кол-во уникальных значений"
   ]
  },
  {
   "cell_type": "code",
   "execution_count": 9,
   "id": "ed54d7c0",
   "metadata": {
    "execution": {
     "iopub.execute_input": "2022-02-04T09:45:01.687360Z",
     "iopub.status.busy": "2022-02-04T09:45:01.686591Z",
     "iopub.status.idle": "2022-02-04T09:45:01.700468Z",
     "shell.execute_reply": "2022-02-04T09:45:01.701005Z",
     "shell.execute_reply.started": "2022-02-04T04:00:36.58514Z"
    },
    "papermill": {
     "duration": 0.062952,
     "end_time": "2022-02-04T09:45:01.701187",
     "exception": false,
     "start_time": "2022-02-04T09:45:01.638235",
     "status": "completed"
    },
    "tags": []
   },
   "outputs": [
    {
     "data": {
      "text/plain": [
       "Number                 898\n",
       "Name                  1032\n",
       "Type 1                  18\n",
       "Type 2                  18\n",
       "Abilities              602\n",
       "HP                     103\n",
       "Att                    123\n",
       "Def                    113\n",
       "Spa                    119\n",
       "Spd                    106\n",
       "Spe                    127\n",
       "BST                    215\n",
       "Mean                   215\n",
       "Standard Deviation     725\n",
       "Generation               8\n",
       "Final Evolution          2\n",
       "Catch Rate              34\n",
       "Legendary                2\n",
       "Mega Evolution           2\n",
       "Height                  60\n",
       "Weight                 473\n",
       "BMI                    501\n",
       "dtype: int64"
      ]
     },
     "execution_count": 9,
     "metadata": {},
     "output_type": "execute_result"
    }
   ],
   "source": [
    "df.nunique()"
   ]
  },
  {
   "cell_type": "markdown",
   "id": "4bfdb0a1",
   "metadata": {
    "papermill": {
     "duration": 0.044741,
     "end_time": "2022-02-04T09:45:01.792319",
     "exception": false,
     "start_time": "2022-02-04T09:45:01.747578",
     "status": "completed"
    },
    "tags": []
   },
   "source": [
    "убираем параметр \"Name\" так как его уникальность составляет 100%"
   ]
  },
  {
   "cell_type": "code",
   "execution_count": 10,
   "id": "320c3552",
   "metadata": {
    "execution": {
     "iopub.execute_input": "2022-02-04T09:45:01.884927Z",
     "iopub.status.busy": "2022-02-04T09:45:01.884297Z",
     "iopub.status.idle": "2022-02-04T09:45:01.888250Z",
     "shell.execute_reply": "2022-02-04T09:45:01.888724Z",
     "shell.execute_reply.started": "2022-02-04T04:00:36.609946Z"
    },
    "papermill": {
     "duration": 0.05215,
     "end_time": "2022-02-04T09:45:01.888892",
     "exception": false,
     "start_time": "2022-02-04T09:45:01.836742",
     "status": "completed"
    },
    "tags": []
   },
   "outputs": [],
   "source": [
    "df = df.drop('Name', axis=1)"
   ]
  },
  {
   "cell_type": "markdown",
   "id": "04a47140",
   "metadata": {
    "papermill": {
     "duration": 0.044727,
     "end_time": "2022-02-04T09:45:01.977982",
     "exception": false,
     "start_time": "2022-02-04T09:45:01.933255",
     "status": "completed"
    },
    "tags": []
   },
   "source": [
    "проверяем атрибуты на кол-во пропусков (np.nan - NaN)"
   ]
  },
  {
   "cell_type": "code",
   "execution_count": 11,
   "id": "8297dca7",
   "metadata": {
    "execution": {
     "iopub.execute_input": "2022-02-04T09:45:02.075806Z",
     "iopub.status.busy": "2022-02-04T09:45:02.074830Z",
     "iopub.status.idle": "2022-02-04T09:45:02.080483Z",
     "shell.execute_reply": "2022-02-04T09:45:02.080973Z",
     "shell.execute_reply.started": "2022-02-04T04:00:36.62092Z"
    },
    "papermill": {
     "duration": 0.058234,
     "end_time": "2022-02-04T09:45:02.081156",
     "exception": false,
     "start_time": "2022-02-04T09:45:02.022922",
     "status": "completed"
    },
    "tags": []
   },
   "outputs": [
    {
     "data": {
      "text/plain": [
       "Number                  0\n",
       "Type 1                  0\n",
       "Type 2                484\n",
       "Abilities               0\n",
       "HP                      0\n",
       "Att                     0\n",
       "Def                     0\n",
       "Spa                     0\n",
       "Spd                     0\n",
       "Spe                     0\n",
       "BST                     0\n",
       "Mean                    0\n",
       "Standard Deviation      0\n",
       "Generation              0\n",
       "Final Evolution         0\n",
       "Catch Rate              0\n",
       "Legendary               0\n",
       "Mega Evolution          0\n",
       "Height                  0\n",
       "Weight                  0\n",
       "BMI                     0\n",
       "dtype: int64"
      ]
     },
     "execution_count": 11,
     "metadata": {},
     "output_type": "execute_result"
    }
   ],
   "source": [
    "df.isnull().sum()"
   ]
  },
  {
   "cell_type": "markdown",
   "id": "36039b0c",
   "metadata": {
    "papermill": {
     "duration": 0.044123,
     "end_time": "2022-02-04T09:45:02.170118",
     "exception": false,
     "start_time": "2022-02-04T09:45:02.125995",
     "status": "completed"
    },
    "tags": []
   },
   "source": [
    "пропусков оказалось не так много можно заполнить все строки с пропущенными значениями пустой строкой (\"\") так как второй тип не всегда имеется и это нормально но избавиться от пропусков надо"
   ]
  },
  {
   "cell_type": "code",
   "execution_count": 12,
   "id": "0ee13001",
   "metadata": {
    "execution": {
     "iopub.execute_input": "2022-02-04T09:45:02.268644Z",
     "iopub.status.busy": "2022-02-04T09:45:02.267589Z",
     "iopub.status.idle": "2022-02-04T09:45:02.269553Z",
     "shell.execute_reply": "2022-02-04T09:45:02.270318Z",
     "shell.execute_reply.started": "2022-02-04T04:00:36.644766Z"
    },
    "papermill": {
     "duration": 0.055842,
     "end_time": "2022-02-04T09:45:02.270491",
     "exception": false,
     "start_time": "2022-02-04T09:45:02.214649",
     "status": "completed"
    },
    "tags": []
   },
   "outputs": [],
   "source": [
    "def fill_nan(x):\n",
    "    if x == 'nan' or x == 'None' or x == None:\n",
    "        return ''\n",
    "    else:\n",
    "        return x\n",
    "    \n",
    "df['Type 2'] = df['Type 2'].fillna('')\n",
    "df['Type 1'] = df['Type 1'].apply(lambda x: fill_nan(x))\n",
    "df['Type 2'] = df['Type 2'].apply(lambda x: fill_nan(x))"
   ]
  },
  {
   "cell_type": "markdown",
   "id": "9dc0d2bb",
   "metadata": {
    "papermill": {
     "duration": 0.044198,
     "end_time": "2022-02-04T09:45:02.359322",
     "exception": false,
     "start_time": "2022-02-04T09:45:02.315124",
     "status": "completed"
    },
    "tags": []
   },
   "source": [
    "после избавления от пропусков решаем вопрос с параметрами типа object так там может быть все что угодно нам нужно получить только числа потому что модель может схавать только числа и выдать результат"
   ]
  },
  {
   "cell_type": "code",
   "execution_count": 13,
   "id": "b11dca4b",
   "metadata": {
    "execution": {
     "iopub.execute_input": "2022-02-04T09:45:02.452347Z",
     "iopub.status.busy": "2022-02-04T09:45:02.451411Z",
     "iopub.status.idle": "2022-02-04T09:45:02.457897Z",
     "shell.execute_reply": "2022-02-04T09:45:02.458324Z",
     "shell.execute_reply.started": "2022-02-04T04:00:36.659032Z"
    },
    "papermill": {
     "duration": 0.054585,
     "end_time": "2022-02-04T09:45:02.458496",
     "exception": false,
     "start_time": "2022-02-04T09:45:02.403911",
     "status": "completed"
    },
    "tags": []
   },
   "outputs": [
    {
     "data": {
      "text/plain": [
       "Number                  int64\n",
       "Type 1                 object\n",
       "Type 2                 object\n",
       "Abilities              object\n",
       "HP                      int64\n",
       "Att                     int64\n",
       "Def                     int64\n",
       "Spa                     int64\n",
       "Spd                     int64\n",
       "Spe                     int64\n",
       "BST                     int64\n",
       "Mean                  float64\n",
       "Standard Deviation    float64\n",
       "Generation            float64\n",
       "Final Evolution       float64\n",
       "Catch Rate              int64\n",
       "Legendary             float64\n",
       "Mega Evolution        float64\n",
       "Height                float64\n",
       "Weight                float64\n",
       "BMI                   float64\n",
       "dtype: object"
      ]
     },
     "execution_count": 13,
     "metadata": {},
     "output_type": "execute_result"
    }
   ],
   "source": [
    "df.dtypes"
   ]
  },
  {
   "cell_type": "code",
   "execution_count": 14,
   "id": "a654de69",
   "metadata": {
    "execution": {
     "iopub.execute_input": "2022-02-04T09:45:02.553274Z",
     "iopub.status.busy": "2022-02-04T09:45:02.552320Z",
     "iopub.status.idle": "2022-02-04T09:45:02.559990Z",
     "shell.execute_reply": "2022-02-04T09:45:02.559439Z",
     "shell.execute_reply.started": "2022-02-04T04:00:36.683745Z"
    },
    "papermill": {
     "duration": 0.05667,
     "end_time": "2022-02-04T09:45:02.560140",
     "exception": false,
     "start_time": "2022-02-04T09:45:02.503470",
     "status": "completed"
    },
    "tags": []
   },
   "outputs": [
    {
     "data": {
      "text/plain": [
       "['Type 1', 'Type 2', 'Abilities']"
      ]
     },
     "execution_count": 14,
     "metadata": {},
     "output_type": "execute_result"
    }
   ],
   "source": [
    "cols = [col for col in df.columns if df[col].dtype == 'O']\n",
    "cols"
   ]
  },
  {
   "cell_type": "markdown",
   "id": "0584422b",
   "metadata": {
    "papermill": {
     "duration": 0.045106,
     "end_time": "2022-02-04T09:45:02.650997",
     "exception": false,
     "start_time": "2022-02-04T09:45:02.605891",
     "status": "completed"
    },
    "tags": []
   },
   "source": [
    "Вданном наборе только три столбца имееют тип object: Type 1, Type 2, Abilities\n",
    "\n",
    "Избавиться от них мы не можем потому что они нужны для класторизации будем преобразовывать, посмотрим что мы можем с этим сделать"
   ]
  },
  {
   "cell_type": "code",
   "execution_count": 15,
   "id": "7bc9a137",
   "metadata": {
    "execution": {
     "iopub.execute_input": "2022-02-04T09:45:02.749928Z",
     "iopub.status.busy": "2022-02-04T09:45:02.748939Z",
     "iopub.status.idle": "2022-02-04T09:45:02.752921Z",
     "shell.execute_reply": "2022-02-04T09:45:02.753359Z",
     "shell.execute_reply.started": "2022-02-04T04:00:36.69753Z"
    },
    "papermill": {
     "duration": 0.057245,
     "end_time": "2022-02-04T09:45:02.753538",
     "exception": false,
     "start_time": "2022-02-04T09:45:02.696293",
     "status": "completed"
    },
    "tags": []
   },
   "outputs": [
    {
     "name": "stdout",
     "output_type": "stream",
     "text": [
      "\n",
      "-------------------\n",
      "Type 1\n",
      "-------------------\n",
      "0    Grass\n",
      "1    Grass\n",
      "2    Grass\n",
      "3    Grass\n",
      "4     Fire\n",
      "Name: Type 1, dtype: object\n",
      "\n",
      "-------------------\n",
      "Type 2\n",
      "-------------------\n",
      "0    Poison\n",
      "1    Poison\n",
      "2    Poison\n",
      "3    Poison\n",
      "4          \n",
      "Name: Type 2, dtype: object\n",
      "\n",
      "-------------------\n",
      "Abilities\n",
      "-------------------\n",
      "0    ['Chlorophyll', 'Overgrow']\n",
      "1    ['Chlorophyll', 'Overgrow']\n",
      "2    ['Chlorophyll', 'Overgrow']\n",
      "3                  ['Thick Fat']\n",
      "4       ['Blaze', 'Solar Power']\n",
      "Name: Abilities, dtype: object\n"
     ]
    }
   ],
   "source": [
    "for col in cols:\n",
    "    print()\n",
    "    print('-------------------')\n",
    "    print(col)\n",
    "    print('-------------------')\n",
    "    print(df[col].head())"
   ]
  },
  {
   "cell_type": "markdown",
   "id": "0cac6129",
   "metadata": {
    "papermill": {
     "duration": 0.04589,
     "end_time": "2022-02-04T09:45:02.844941",
     "exception": false,
     "start_time": "2022-02-04T09:45:02.799051",
     "status": "completed"
    },
    "tags": []
   },
   "source": [
    "атрибут 'Abilities' составной и является строкой из которого надо вытащить скиллы для этого разбиваем строку на список и записываем в ячейку вместо строки и так для всего столбца после разбиваем этот атрибут на 4 стобца каждый из которых отвечает за способность"
   ]
  },
  {
   "cell_type": "code",
   "execution_count": 16,
   "id": "98fe6485",
   "metadata": {
    "execution": {
     "iopub.execute_input": "2022-02-04T09:45:02.941683Z",
     "iopub.status.busy": "2022-02-04T09:45:02.940740Z",
     "iopub.status.idle": "2022-02-04T09:45:02.946878Z",
     "shell.execute_reply": "2022-02-04T09:45:02.947358Z",
     "shell.execute_reply.started": "2022-02-04T04:00:36.716417Z"
    },
    "papermill": {
     "duration": 0.056375,
     "end_time": "2022-02-04T09:45:02.947541",
     "exception": false,
     "start_time": "2022-02-04T09:45:02.891166",
     "status": "completed"
    },
    "tags": []
   },
   "outputs": [
    {
     "name": "stdout",
     "output_type": "stream",
     "text": [
      "['Chlorophyll', 'Overgrow'] <class 'str'>\n"
     ]
    }
   ],
   "source": [
    "print(df['Abilities'].iloc[1], type(df['Abilities'].iloc[1]))"
   ]
  },
  {
   "cell_type": "code",
   "execution_count": 17,
   "id": "e202b013",
   "metadata": {
    "execution": {
     "iopub.execute_input": "2022-02-04T09:45:03.045572Z",
     "iopub.status.busy": "2022-02-04T09:45:03.044975Z",
     "iopub.status.idle": "2022-02-04T09:45:03.051106Z",
     "shell.execute_reply": "2022-02-04T09:45:03.051508Z",
     "shell.execute_reply.started": "2022-02-04T04:00:36.729609Z"
    },
    "papermill": {
     "duration": 0.055559,
     "end_time": "2022-02-04T09:45:03.051735",
     "exception": false,
     "start_time": "2022-02-04T09:45:02.996176",
     "status": "completed"
    },
    "tags": []
   },
   "outputs": [
    {
     "name": "stdout",
     "output_type": "stream",
     "text": [
      "end\n"
     ]
    }
   ],
   "source": [
    "def info(x):\n",
    "    if type(x) != str:\n",
    "        print(x)\n",
    "    return x\n",
    "    \n",
    "df['Abilities'].apply(lambda x: info(x))\n",
    "print('end')"
   ]
  },
  {
   "cell_type": "code",
   "execution_count": 18,
   "id": "d751fbf6",
   "metadata": {
    "execution": {
     "iopub.execute_input": "2022-02-04T09:45:03.157747Z",
     "iopub.status.busy": "2022-02-04T09:45:03.156991Z",
     "iopub.status.idle": "2022-02-04T09:45:03.159954Z",
     "shell.execute_reply": "2022-02-04T09:45:03.160406Z",
     "shell.execute_reply.started": "2022-02-04T04:00:36.749271Z"
    },
    "papermill": {
     "duration": 0.061028,
     "end_time": "2022-02-04T09:45:03.160572",
     "exception": false,
     "start_time": "2022-02-04T09:45:03.099544",
     "status": "completed"
    },
    "tags": []
   },
   "outputs": [
    {
     "data": {
      "text/plain": [
       "0    [Chlorophyll, Overgrow]\n",
       "1    [Chlorophyll, Overgrow]\n",
       "2    [Chlorophyll, Overgrow]\n",
       "3                 [ThickFat]\n",
       "4        [Blaze, SolarPower]\n",
       "Name: Abilities, dtype: object"
      ]
     },
     "execution_count": 18,
     "metadata": {},
     "output_type": "execute_result"
    }
   ],
   "source": [
    "def str_to_list(x):\n",
    "    for c in [\"'\", \"[\", \"]\", \" \", '\"']:\n",
    "        x = x.replace(c, '')\n",
    "    x = x.split(',')\n",
    "    return x\n",
    "\n",
    "df['Abilities'] = df['Abilities'].apply(lambda x: str_to_list(x))\n",
    "df['Abilities'].head()"
   ]
  },
  {
   "cell_type": "code",
   "execution_count": 19,
   "id": "fece6f48",
   "metadata": {
    "execution": {
     "iopub.execute_input": "2022-02-04T09:45:03.260084Z",
     "iopub.status.busy": "2022-02-04T09:45:03.259393Z",
     "iopub.status.idle": "2022-02-04T09:45:03.262734Z",
     "shell.execute_reply": "2022-02-04T09:45:03.262122Z",
     "shell.execute_reply.started": "2022-02-04T04:00:36.771382Z"
    },
    "papermill": {
     "duration": 0.056091,
     "end_time": "2022-02-04T09:45:03.262881",
     "exception": false,
     "start_time": "2022-02-04T09:45:03.206790",
     "status": "completed"
    },
    "tags": []
   },
   "outputs": [
    {
     "name": "stdout",
     "output_type": "stream",
     "text": [
      "end\n"
     ]
    }
   ],
   "source": [
    "def info(x):\n",
    "    if type(x) != list:\n",
    "        print(x)\n",
    "    return x\n",
    "    \n",
    "df['Abilities'].apply(lambda x: info(x))\n",
    "print('end')"
   ]
  },
  {
   "cell_type": "markdown",
   "id": "a02d3cca",
   "metadata": {
    "papermill": {
     "duration": 0.046562,
     "end_time": "2022-02-04T09:45:03.356575",
     "exception": false,
     "start_time": "2022-02-04T09:45:03.310013",
     "status": "completed"
    },
    "tags": []
   },
   "source": [
    "нам не нужны строки в нам нужны числа категорические атрибуты мы заменем на их числовой аналог который мы сохраняем в словаре чтобы использовать в дальнейшем"
   ]
  },
  {
   "cell_type": "code",
   "execution_count": 20,
   "id": "32c987b0",
   "metadata": {
    "execution": {
     "iopub.execute_input": "2022-02-04T09:45:03.460623Z",
     "iopub.status.busy": "2022-02-04T09:45:03.457710Z",
     "iopub.status.idle": "2022-02-04T09:45:03.467815Z",
     "shell.execute_reply": "2022-02-04T09:45:03.468493Z",
     "shell.execute_reply.started": "2022-02-04T04:00:36.782285Z"
    },
    "papermill": {
     "duration": 0.065112,
     "end_time": "2022-02-04T09:45:03.468704",
     "exception": false,
     "start_time": "2022-02-04T09:45:03.403592",
     "status": "completed"
    },
    "tags": []
   },
   "outputs": [
    {
     "data": {
      "text/plain": [
       "{'Type 1': [], 'Type 2': [], 'Abilities': []}"
      ]
     },
     "execution_count": 20,
     "metadata": {},
     "output_type": "execute_result"
    }
   ],
   "source": [
    "labeling = {col: [] for col in cols}\n",
    "labeling"
   ]
  },
  {
   "cell_type": "code",
   "execution_count": 21,
   "id": "2a50391b",
   "metadata": {
    "execution": {
     "iopub.execute_input": "2022-02-04T09:45:03.596078Z",
     "iopub.status.busy": "2022-02-04T09:45:03.595135Z",
     "iopub.status.idle": "2022-02-04T09:45:03.601691Z",
     "shell.execute_reply": "2022-02-04T09:45:03.602316Z",
     "shell.execute_reply.started": "2022-02-04T04:00:36.800242Z"
    },
    "papermill": {
     "duration": 0.066519,
     "end_time": "2022-02-04T09:45:03.602552",
     "exception": false,
     "start_time": "2022-02-04T09:45:03.536033",
     "status": "completed"
    },
    "tags": []
   },
   "outputs": [
    {
     "data": {
      "text/plain": [
       "{'Type 1': array(['Grass', 'Fire', 'Water', 'Bug', 'Normal', 'Dark', 'Poison',\n",
       "        'Electric', 'Ground', 'Ice', 'Fairy', 'Steel', 'Fighting',\n",
       "        'Psychic', 'Rock', 'Ghost', 'Dragon', 'Flying'], dtype=object),\n",
       " 'Type 2': array(['Poison', '', 'Flying', 'Dragon', 'Normal', 'Psychic', 'Steel',\n",
       "        'Ground', 'Fairy', 'Grass', 'Fighting', 'Electric', 'Ice', 'Dark',\n",
       "        'Ghost', 'Rock', 'Water', 'Fire', 'Bug'], dtype=object),\n",
       " 'Abilities': []}"
      ]
     },
     "execution_count": 21,
     "metadata": {},
     "output_type": "execute_result"
    }
   ],
   "source": [
    "for col in labeling:\n",
    "    if col != 'Abilities':\n",
    "        labeling[col] = df[col].unique()        \n",
    "\n",
    "labeling"
   ]
  },
  {
   "cell_type": "code",
   "execution_count": 22,
   "id": "b169c367",
   "metadata": {
    "execution": {
     "iopub.execute_input": "2022-02-04T09:45:03.727989Z",
     "iopub.status.busy": "2022-02-04T09:45:03.727363Z",
     "iopub.status.idle": "2022-02-04T09:45:03.736945Z",
     "shell.execute_reply": "2022-02-04T09:45:03.737363Z",
     "shell.execute_reply.started": "2022-02-04T04:00:36.82036Z"
    },
    "papermill": {
     "duration": 0.075912,
     "end_time": "2022-02-04T09:45:03.737535",
     "exception": false,
     "start_time": "2022-02-04T09:45:03.661623",
     "status": "completed"
    },
    "tags": []
   },
   "outputs": [
    {
     "data": {
      "text/plain": [
       "{'Abilities': [],\n",
       " 'Type': array(['Grass', 'Fire', 'Water', 'Bug', 'Normal', 'Dark', 'Poison',\n",
       "        'Electric', 'Ground', 'Ice', 'Fairy', 'Steel', 'Fighting',\n",
       "        'Psychic', 'Rock', 'Ghost', 'Dragon', 'Flying', 'Poison', '',\n",
       "        'Flying', 'Dragon', 'Normal', 'Psychic', 'Steel', 'Ground',\n",
       "        'Fairy', 'Grass', 'Fighting', 'Electric', 'Ice', 'Dark', 'Ghost',\n",
       "        'Rock', 'Water', 'Fire', 'Bug'], dtype='<U8')}"
      ]
     },
     "execution_count": 22,
     "metadata": {},
     "output_type": "execute_result"
    }
   ],
   "source": [
    "types = [labeling['Type 1'], labeling['Type 2']]\n",
    "new = []\n",
    "\n",
    "for group in types:\n",
    "    for item in group:\n",
    "        new.append(item)\n",
    "        \n",
    "types = np.array(new)\n",
    "\n",
    "del labeling['Type 1']\n",
    "del labeling['Type 2']\n",
    "\n",
    "labeling['Type'] = types\n",
    "labeling"
   ]
  },
  {
   "cell_type": "code",
   "execution_count": 23,
   "id": "efb3c323",
   "metadata": {
    "execution": {
     "iopub.execute_input": "2022-02-04T09:45:03.850227Z",
     "iopub.status.busy": "2022-02-04T09:45:03.849231Z",
     "iopub.status.idle": "2022-02-04T09:45:03.851323Z",
     "shell.execute_reply": "2022-02-04T09:45:03.851855Z",
     "shell.execute_reply.started": "2022-02-04T04:00:36.836719Z"
    },
    "papermill": {
     "duration": 0.061056,
     "end_time": "2022-02-04T09:45:03.852026",
     "exception": false,
     "start_time": "2022-02-04T09:45:03.790970",
     "status": "completed"
    },
    "tags": []
   },
   "outputs": [],
   "source": [
    "abilities = [x for x in df['Abilities'].values if len(x)]\n",
    "new = []\n",
    "for val in abilities:\n",
    "    for item in val:\n",
    "        new.append(item)\n",
    "abilities = new"
   ]
  },
  {
   "cell_type": "code",
   "execution_count": 24,
   "id": "78c00d79",
   "metadata": {
    "execution": {
     "iopub.execute_input": "2022-02-04T09:45:03.953525Z",
     "iopub.status.busy": "2022-02-04T09:45:03.952581Z",
     "iopub.status.idle": "2022-02-04T09:45:03.957008Z",
     "shell.execute_reply": "2022-02-04T09:45:03.957639Z",
     "shell.execute_reply.started": "2022-02-04T04:00:36.853294Z"
    },
    "papermill": {
     "duration": 0.057267,
     "end_time": "2022-02-04T09:45:03.957852",
     "exception": false,
     "start_time": "2022-02-04T09:45:03.900585",
     "status": "completed"
    },
    "tags": []
   },
   "outputs": [],
   "source": [
    "labeling['Abilities'] = np.array(list(set(abilities)))"
   ]
  },
  {
   "cell_type": "code",
   "execution_count": 25,
   "id": "168e9385",
   "metadata": {
    "execution": {
     "iopub.execute_input": "2022-02-04T09:45:04.062474Z",
     "iopub.status.busy": "2022-02-04T09:45:04.061681Z",
     "iopub.status.idle": "2022-02-04T09:45:04.064950Z",
     "shell.execute_reply": "2022-02-04T09:45:04.065381Z",
     "shell.execute_reply.started": "2022-02-04T04:00:36.869683Z"
    },
    "papermill": {
     "duration": 0.058725,
     "end_time": "2022-02-04T09:45:04.065553",
     "exception": false,
     "start_time": "2022-02-04T09:45:04.006828",
     "status": "completed"
    },
    "tags": []
   },
   "outputs": [
    {
     "data": {
      "text/plain": [
       "{'Abilities': array(['', 'Mimicry', 'ZenMode', 'ThickFat', 'Stamina', 'ShadowShield',\n",
       "        'Illusion', 'Unburden', 'Transistor', 'SolarPower', 'WhiteSmoke',\n",
       "        'Receiver', 'IceFace', 'NaturalCure', 'ScreenCleaner', 'Contrary',\n",
       "        'AirLock', 'HugePower', 'GrassPelt', 'Ripen', 'ShieldDust',\n",
       "        'Corrosion', 'OwnTempo', 'BattleArmor', 'SandSpit', 'PerishBody',\n",
       "        'Normalize', 'Berserk', 'SolidRock', 'SuperLuck', 'VictoryStar',\n",
       "        'GaleWings', 'InnardsOut', 'SkillLink', 'Aftermath', 'CursedBody',\n",
       "        'WeakArmor', 'Gluttony', 'VitalSpirit', 'SteelySpirit',\n",
       "        'InnerFocus', 'Stall', 'Pickpocket', 'ShadowTag', 'Guts',\n",
       "        'BigPecks', 'Intimidate', 'Unnerve', 'Pickup', 'DragonsMaw',\n",
       "        'MagmaArmor', 'SlushRush', 'WaterBubble', 'Fluffy', 'Reckless',\n",
       "        'PastelVeil', 'AngerPoint', 'BadDreams', 'ElectricSurge',\n",
       "        'PrismArmor', 'FlashFire', 'MotorDrive', 'Scrappy', 'SereneGrace',\n",
       "        'MistySurge', 'Analytic', 'ToxicBoost', 'Healer', 'Multitype',\n",
       "        'Prankster', 'Telepathy', 'FullMetalBody', 'RainDish', 'SwiftSwim',\n",
       "        'StrongJaw', 'GrassySurge', 'Static', 'IceBody', 'SpeedBoost',\n",
       "        'Pressure', 'SheerForce', 'Overgrow', 'Soul-Heart', 'IronFist',\n",
       "        'Regenerator', 'SnowCloak', 'DesolateLand', 'HungerSwitch',\n",
       "        'ShellArmor', 'Plus', 'IceScales', 'RKSSystem', 'FlowerGift',\n",
       "        'Rivalry', 'ArenaTrap', 'Magician', 'Merciless', 'ColorChange',\n",
       "        'SweetVeil', 'Swarm', 'PoisonHeal', 'ClearBody', 'Torrent',\n",
       "        'ShedSkin', 'Levitate', 'ParentalBond', 'Bulletproof',\n",
       "        'StickyHold', 'Damp', 'KeenEye', 'StanceChange', 'Libero',\n",
       "        'MirrorArmor', 'MagicBounce', 'Teravolt', 'MegaLauncher', 'Filter',\n",
       "        'WaterCompaction', 'Sniper', 'TintedLens', 'SnowWarning',\n",
       "        'Insomnia', 'LightMetal', 'WonderSkin', 'Drizzle', 'Rattled',\n",
       "        'PurePower', 'PowerConstruct', 'Soundproof', 'NeutralizingGas',\n",
       "        'RockHead', 'CloudNine', 'LeafGuard', 'Simple', 'Refrigerate',\n",
       "        'Gooey', 'SandRush', 'Multiscale', 'Overcoat', 'MarvelScale',\n",
       "        'Anticipation', 'Infiltrator', 'DrySkin', 'Oblivious',\n",
       "        'Technician', 'Sturdy', 'Immunity', 'Heatproof', 'LiquidOoze',\n",
       "        'QuickFeet', 'NoGuard', 'Hydration', 'PoisonPoint', 'Schooling',\n",
       "        'FlameBody', 'MoldBreaker', 'Harvest', 'CuteCharm', 'Hustle',\n",
       "        'Defiant', 'CuriousMedicine', 'Stench', 'LongReach', 'SurgeSurfer',\n",
       "        'Adaptability', 'MagicGuard', 'Stalwart', 'PrimordialSea',\n",
       "        'Drought', 'Symbiosis', 'Triage', 'RoughSkin', 'PsychicSurge',\n",
       "        'GrimNeigh', 'VoltAbsorb', 'Dancer', 'Justified', 'UnseenFist',\n",
       "        'Protean', 'AsOne', 'Forecast', 'Competitive', 'SuctionCups',\n",
       "        'Klutz', 'SlowStart', 'StormDrain', 'Download', 'Comatose',\n",
       "        'PowerofAlchemy', 'HoneyGather', 'Pixilate', 'FlareBoost',\n",
       "        'SteamEngine', 'Mummy', 'Forewarn', 'DauntlessShield',\n",
       "        'Illuminate', 'PunkRock', 'WanderingSpirit', 'SapSipper',\n",
       "        'QuickDraw', 'AromaVeil', 'CheekPouch', 'Blaze', 'WimpOut',\n",
       "        'Dazzling', 'GulpMissile', 'Frisk', 'Limber', 'LightningRod',\n",
       "        'Stakeout', 'EffectSpore', 'Minus', 'SandVeil', 'Moxie',\n",
       "        'FlowerVeil', 'AuraBreak', 'GorillaTactics', 'EmergencyExit',\n",
       "        'DarkAura', 'BeastBoost', 'Steadfast', 'RunAway', 'Synchronize',\n",
       "        'QueenlyMajesty', 'HyperCutter', 'FurCoat', 'BattleBond',\n",
       "        'Disguise', 'Chlorophyll', 'MagnetPull', 'ToughClaws',\n",
       "        'SandStream', 'Turboblaze', 'Steelworker', 'WaterAbsorb',\n",
       "        'Unaware', 'Battery', 'TanglingHair', 'WonderGuard', 'Trace',\n",
       "        'DeltaStream', 'PowerSpot', 'IntrepidSword', 'TangledFeet',\n",
       "        'BallFetch', 'Defeatist', 'CottonDown', 'HeavyMetal',\n",
       "        'ChillingNeigh', 'Moody', 'FriendGuard', 'ShieldsDown',\n",
       "        'PropellerTail', 'SandForce', 'EarlyBird', 'PoisonTouch',\n",
       "        'WaterVeil', 'Truant', 'Imposter', 'IronBarbs', 'FairyAura',\n",
       "        'LiquidVoice', 'Aerilate', 'Galvanize'], dtype='<U15'),\n",
       " 'Type': array(['Grass', 'Fire', 'Water', 'Bug', 'Normal', 'Dark', 'Poison',\n",
       "        'Electric', 'Ground', 'Ice', 'Fairy', 'Steel', 'Fighting',\n",
       "        'Psychic', 'Rock', 'Ghost', 'Dragon', 'Flying', 'Poison', '',\n",
       "        'Flying', 'Dragon', 'Normal', 'Psychic', 'Steel', 'Ground',\n",
       "        'Fairy', 'Grass', 'Fighting', 'Electric', 'Ice', 'Dark', 'Ghost',\n",
       "        'Rock', 'Water', 'Fire', 'Bug'], dtype='<U8')}"
      ]
     },
     "execution_count": 25,
     "metadata": {},
     "output_type": "execute_result"
    }
   ],
   "source": [
    "labeling"
   ]
  },
  {
   "cell_type": "code",
   "execution_count": 26,
   "id": "3f61abe1",
   "metadata": {
    "execution": {
     "iopub.execute_input": "2022-02-04T09:45:04.167079Z",
     "iopub.status.busy": "2022-02-04T09:45:04.166004Z",
     "iopub.status.idle": "2022-02-04T09:45:04.170820Z",
     "shell.execute_reply": "2022-02-04T09:45:04.171383Z",
     "shell.execute_reply.started": "2022-02-04T04:00:36.886925Z"
    },
    "papermill": {
     "duration": 0.058024,
     "end_time": "2022-02-04T09:45:04.171555",
     "exception": false,
     "start_time": "2022-02-04T09:45:04.113531",
     "status": "completed"
    },
    "tags": []
   },
   "outputs": [],
   "source": [
    "for col in labeling:\n",
    "    labeling[col] = {item: number for number, item in enumerate(labeling[col])}"
   ]
  },
  {
   "cell_type": "code",
   "execution_count": 27,
   "id": "0a4e5bac",
   "metadata": {
    "execution": {
     "iopub.execute_input": "2022-02-04T09:45:04.276583Z",
     "iopub.status.busy": "2022-02-04T09:45:04.275566Z",
     "iopub.status.idle": "2022-02-04T09:45:04.278029Z",
     "shell.execute_reply": "2022-02-04T09:45:04.278489Z",
     "shell.execute_reply.started": "2022-02-04T04:00:36.900972Z"
    },
    "papermill": {
     "duration": 0.057165,
     "end_time": "2022-02-04T09:45:04.278674",
     "exception": false,
     "start_time": "2022-02-04T09:45:04.221509",
     "status": "completed"
    },
    "tags": []
   },
   "outputs": [],
   "source": [
    "# very many rows\n",
    "# labeling"
   ]
  },
  {
   "cell_type": "code",
   "execution_count": 28,
   "id": "4b1b379a",
   "metadata": {
    "execution": {
     "iopub.execute_input": "2022-02-04T09:45:04.380063Z",
     "iopub.status.busy": "2022-02-04T09:45:04.379388Z",
     "iopub.status.idle": "2022-02-04T09:45:04.401969Z",
     "shell.execute_reply": "2022-02-04T09:45:04.402454Z",
     "shell.execute_reply.started": "2022-02-04T04:00:36.914956Z"
    },
    "papermill": {
     "duration": 0.074414,
     "end_time": "2022-02-04T09:45:04.402624",
     "exception": false,
     "start_time": "2022-02-04T09:45:04.328210",
     "status": "completed"
    },
    "tags": []
   },
   "outputs": [
    {
     "data": {
      "text/html": [
       "<div>\n",
       "<style scoped>\n",
       "    .dataframe tbody tr th:only-of-type {\n",
       "        vertical-align: middle;\n",
       "    }\n",
       "\n",
       "    .dataframe tbody tr th {\n",
       "        vertical-align: top;\n",
       "    }\n",
       "\n",
       "    .dataframe thead th {\n",
       "        text-align: right;\n",
       "    }\n",
       "</style>\n",
       "<table border=\"1\" class=\"dataframe\">\n",
       "  <thead>\n",
       "    <tr style=\"text-align: right;\">\n",
       "      <th></th>\n",
       "      <th>Number</th>\n",
       "      <th>Type 1</th>\n",
       "      <th>Type 2</th>\n",
       "      <th>Abilities</th>\n",
       "      <th>HP</th>\n",
       "      <th>Att</th>\n",
       "      <th>Def</th>\n",
       "      <th>Spa</th>\n",
       "      <th>Spd</th>\n",
       "      <th>Spe</th>\n",
       "      <th>...</th>\n",
       "      <th>Mean</th>\n",
       "      <th>Standard Deviation</th>\n",
       "      <th>Generation</th>\n",
       "      <th>Final Evolution</th>\n",
       "      <th>Catch Rate</th>\n",
       "      <th>Legendary</th>\n",
       "      <th>Mega Evolution</th>\n",
       "      <th>Height</th>\n",
       "      <th>Weight</th>\n",
       "      <th>BMI</th>\n",
       "    </tr>\n",
       "  </thead>\n",
       "  <tbody>\n",
       "    <tr>\n",
       "      <th>0</th>\n",
       "      <td>1</td>\n",
       "      <td>Grass</td>\n",
       "      <td>Poison</td>\n",
       "      <td>[Chlorophyll, Overgrow]</td>\n",
       "      <td>45</td>\n",
       "      <td>49</td>\n",
       "      <td>49</td>\n",
       "      <td>65</td>\n",
       "      <td>65</td>\n",
       "      <td>45</td>\n",
       "      <td>...</td>\n",
       "      <td>53.000000</td>\n",
       "      <td>8.640988</td>\n",
       "      <td>1.0</td>\n",
       "      <td>0.0</td>\n",
       "      <td>45</td>\n",
       "      <td>0.0</td>\n",
       "      <td>0.0</td>\n",
       "      <td>0.7</td>\n",
       "      <td>6.9</td>\n",
       "      <td>14.1</td>\n",
       "    </tr>\n",
       "    <tr>\n",
       "      <th>1</th>\n",
       "      <td>2</td>\n",
       "      <td>Grass</td>\n",
       "      <td>Poison</td>\n",
       "      <td>[Chlorophyll, Overgrow]</td>\n",
       "      <td>60</td>\n",
       "      <td>62</td>\n",
       "      <td>63</td>\n",
       "      <td>80</td>\n",
       "      <td>80</td>\n",
       "      <td>60</td>\n",
       "      <td>...</td>\n",
       "      <td>67.500000</td>\n",
       "      <td>8.902247</td>\n",
       "      <td>1.0</td>\n",
       "      <td>0.0</td>\n",
       "      <td>45</td>\n",
       "      <td>0.0</td>\n",
       "      <td>0.0</td>\n",
       "      <td>1.0</td>\n",
       "      <td>13.0</td>\n",
       "      <td>13.0</td>\n",
       "    </tr>\n",
       "    <tr>\n",
       "      <th>2</th>\n",
       "      <td>3</td>\n",
       "      <td>Grass</td>\n",
       "      <td>Poison</td>\n",
       "      <td>[Chlorophyll, Overgrow]</td>\n",
       "      <td>80</td>\n",
       "      <td>82</td>\n",
       "      <td>83</td>\n",
       "      <td>100</td>\n",
       "      <td>100</td>\n",
       "      <td>80</td>\n",
       "      <td>...</td>\n",
       "      <td>87.500000</td>\n",
       "      <td>8.902247</td>\n",
       "      <td>1.0</td>\n",
       "      <td>1.0</td>\n",
       "      <td>45</td>\n",
       "      <td>0.0</td>\n",
       "      <td>0.0</td>\n",
       "      <td>2.0</td>\n",
       "      <td>100.0</td>\n",
       "      <td>25.0</td>\n",
       "    </tr>\n",
       "    <tr>\n",
       "      <th>3</th>\n",
       "      <td>3</td>\n",
       "      <td>Grass</td>\n",
       "      <td>Poison</td>\n",
       "      <td>[ThickFat]</td>\n",
       "      <td>80</td>\n",
       "      <td>100</td>\n",
       "      <td>123</td>\n",
       "      <td>122</td>\n",
       "      <td>120</td>\n",
       "      <td>80</td>\n",
       "      <td>...</td>\n",
       "      <td>104.166667</td>\n",
       "      <td>18.747592</td>\n",
       "      <td>6.0</td>\n",
       "      <td>1.0</td>\n",
       "      <td>45</td>\n",
       "      <td>0.0</td>\n",
       "      <td>1.0</td>\n",
       "      <td>2.4</td>\n",
       "      <td>155.5</td>\n",
       "      <td>27.0</td>\n",
       "    </tr>\n",
       "    <tr>\n",
       "      <th>4</th>\n",
       "      <td>4</td>\n",
       "      <td>Fire</td>\n",
       "      <td></td>\n",
       "      <td>[Blaze, SolarPower]</td>\n",
       "      <td>39</td>\n",
       "      <td>52</td>\n",
       "      <td>43</td>\n",
       "      <td>60</td>\n",
       "      <td>50</td>\n",
       "      <td>65</td>\n",
       "      <td>...</td>\n",
       "      <td>51.500000</td>\n",
       "      <td>8.995369</td>\n",
       "      <td>1.0</td>\n",
       "      <td>0.0</td>\n",
       "      <td>45</td>\n",
       "      <td>0.0</td>\n",
       "      <td>0.0</td>\n",
       "      <td>0.6</td>\n",
       "      <td>8.5</td>\n",
       "      <td>23.6</td>\n",
       "    </tr>\n",
       "  </tbody>\n",
       "</table>\n",
       "<p>5 rows × 21 columns</p>\n",
       "</div>"
      ],
      "text/plain": [
       "   Number Type 1  Type 2                Abilities  HP  Att  Def  Spa  Spd  \\\n",
       "0       1  Grass  Poison  [Chlorophyll, Overgrow]  45   49   49   65   65   \n",
       "1       2  Grass  Poison  [Chlorophyll, Overgrow]  60   62   63   80   80   \n",
       "2       3  Grass  Poison  [Chlorophyll, Overgrow]  80   82   83  100  100   \n",
       "3       3  Grass  Poison               [ThickFat]  80  100  123  122  120   \n",
       "4       4   Fire              [Blaze, SolarPower]  39   52   43   60   50   \n",
       "\n",
       "   Spe  ...        Mean  Standard Deviation  Generation  Final Evolution  \\\n",
       "0   45  ...   53.000000            8.640988         1.0              0.0   \n",
       "1   60  ...   67.500000            8.902247         1.0              0.0   \n",
       "2   80  ...   87.500000            8.902247         1.0              1.0   \n",
       "3   80  ...  104.166667           18.747592         6.0              1.0   \n",
       "4   65  ...   51.500000            8.995369         1.0              0.0   \n",
       "\n",
       "   Catch Rate  Legendary  Mega Evolution  Height  Weight   BMI  \n",
       "0          45        0.0             0.0     0.7     6.9  14.1  \n",
       "1          45        0.0             0.0     1.0    13.0  13.0  \n",
       "2          45        0.0             0.0     2.0   100.0  25.0  \n",
       "3          45        0.0             1.0     2.4   155.5  27.0  \n",
       "4          45        0.0             0.0     0.6     8.5  23.6  \n",
       "\n",
       "[5 rows x 21 columns]"
      ]
     },
     "execution_count": 28,
     "metadata": {},
     "output_type": "execute_result"
    }
   ],
   "source": [
    "df.head()"
   ]
  },
  {
   "cell_type": "code",
   "execution_count": 29,
   "id": "865f818d",
   "metadata": {
    "execution": {
     "iopub.execute_input": "2022-02-04T09:45:04.503344Z",
     "iopub.status.busy": "2022-02-04T09:45:04.502632Z",
     "iopub.status.idle": "2022-02-04T09:45:04.509185Z",
     "shell.execute_reply": "2022-02-04T09:45:04.509605Z",
     "shell.execute_reply.started": "2022-02-04T04:00:36.954335Z"
    },
    "papermill": {
     "duration": 0.058107,
     "end_time": "2022-02-04T09:45:04.509797",
     "exception": false,
     "start_time": "2022-02-04T09:45:04.451690",
     "status": "completed"
    },
    "tags": []
   },
   "outputs": [
    {
     "name": "stdout",
     "output_type": "stream",
     "text": [
      "Max count abilities: 3\n"
     ]
    }
   ],
   "source": [
    "def get_max_length():\n",
    "    max_length = 0\n",
    "    \n",
    "    for item in df['Abilities'].values:\n",
    "        if len(item) > max_length:\n",
    "            max_length = len(item)\n",
    "    \n",
    "    return max_length\n",
    "\n",
    "count_abilities = get_max_length()\n",
    "print('Max count abilities:', count_abilities)"
   ]
  },
  {
   "cell_type": "markdown",
   "id": "7e13153e",
   "metadata": {
    "execution": {
     "iopub.execute_input": "2022-01-19T07:44:38.864559Z",
     "iopub.status.busy": "2022-01-19T07:44:38.864155Z",
     "iopub.status.idle": "2022-01-19T07:44:38.869529Z",
     "shell.execute_reply": "2022-01-19T07:44:38.868868Z",
     "shell.execute_reply.started": "2022-01-19T07:44:38.864529Z"
    },
    "papermill": {
     "duration": 0.048515,
     "end_time": "2022-02-04T09:45:04.607798",
     "exception": false,
     "start_time": "2022-02-04T09:45:04.559283",
     "status": "completed"
    },
    "tags": []
   },
   "source": [
    "но на самом деле их максимум может быть 4"
   ]
  },
  {
   "cell_type": "code",
   "execution_count": 30,
   "id": "83534468",
   "metadata": {
    "execution": {
     "iopub.execute_input": "2022-02-04T09:45:04.709548Z",
     "iopub.status.busy": "2022-02-04T09:45:04.708565Z",
     "iopub.status.idle": "2022-02-04T09:45:04.712643Z",
     "shell.execute_reply": "2022-02-04T09:45:04.713160Z",
     "shell.execute_reply.started": "2022-02-04T04:00:36.963011Z"
    },
    "papermill": {
     "duration": 0.05685,
     "end_time": "2022-02-04T09:45:04.713361",
     "exception": false,
     "start_time": "2022-02-04T09:45:04.656511",
     "status": "completed"
    },
    "tags": []
   },
   "outputs": [],
   "source": [
    "count_abilities = 4"
   ]
  },
  {
   "cell_type": "code",
   "execution_count": 31,
   "id": "ee90e340",
   "metadata": {
    "execution": {
     "iopub.execute_input": "2022-02-04T09:45:04.815829Z",
     "iopub.status.busy": "2022-02-04T09:45:04.815138Z",
     "iopub.status.idle": "2022-02-04T09:45:04.820755Z",
     "shell.execute_reply": "2022-02-04T09:45:04.821204Z",
     "shell.execute_reply.started": "2022-02-04T04:00:36.9808Z"
    },
    "papermill": {
     "duration": 0.059272,
     "end_time": "2022-02-04T09:45:04.821370",
     "exception": false,
     "start_time": "2022-02-04T09:45:04.762098",
     "status": "completed"
    },
    "tags": []
   },
   "outputs": [
    {
     "data": {
      "text/plain": [
       "['Abilities 1', 'Abilities 2', 'Abilities 3', 'Abilities 4']"
      ]
     },
     "execution_count": 31,
     "metadata": {},
     "output_type": "execute_result"
    }
   ],
   "source": [
    "columns_names = [f'Abilities {number + 1}' for number in range(count_abilities)]\n",
    "columns_names"
   ]
  },
  {
   "cell_type": "code",
   "execution_count": 32,
   "id": "f2d9c1db",
   "metadata": {
    "execution": {
     "iopub.execute_input": "2022-02-04T09:45:04.927184Z",
     "iopub.status.busy": "2022-02-04T09:45:04.926204Z",
     "iopub.status.idle": "2022-02-04T09:45:05.535416Z",
     "shell.execute_reply": "2022-02-04T09:45:05.534758Z",
     "shell.execute_reply.started": "2022-02-04T04:00:36.995193Z"
    },
    "papermill": {
     "duration": 0.6654,
     "end_time": "2022-02-04T09:45:05.535556",
     "exception": false,
     "start_time": "2022-02-04T09:45:04.870156",
     "status": "completed"
    },
    "tags": []
   },
   "outputs": [
    {
     "name": "stderr",
     "output_type": "stream",
     "text": [
      "/opt/conda/lib/python3.7/site-packages/ipykernel_launcher.py:6: SettingWithCopyWarning: \n",
      "A value is trying to be set on a copy of a slice from a DataFrame\n",
      "\n",
      "See the caveats in the documentation: https://pandas.pydata.org/pandas-docs/stable/user_guide/indexing.html#returning-a-view-versus-a-copy\n",
      "  \n"
     ]
    }
   ],
   "source": [
    "for col_name in columns_names:\n",
    "    df[col_name] = ''\n",
    "    \n",
    "for index, row in enumerate(df['Abilities'].values):\n",
    "    for i in range(len(row)):\n",
    "        df[f'Abilities {i+1}'][index] = row[i]"
   ]
  },
  {
   "cell_type": "code",
   "execution_count": 33,
   "id": "ecc01e02",
   "metadata": {
    "execution": {
     "iopub.execute_input": "2022-02-04T09:45:05.662517Z",
     "iopub.status.busy": "2022-02-04T09:45:05.661475Z",
     "iopub.status.idle": "2022-02-04T09:45:05.666486Z",
     "shell.execute_reply": "2022-02-04T09:45:05.665976Z",
     "shell.execute_reply.started": "2022-02-04T04:00:37.696766Z"
    },
    "papermill": {
     "duration": 0.080748,
     "end_time": "2022-02-04T09:45:05.666638",
     "exception": false,
     "start_time": "2022-02-04T09:45:05.585890",
     "status": "completed"
    },
    "tags": []
   },
   "outputs": [
    {
     "data": {
      "text/html": [
       "<div>\n",
       "<style scoped>\n",
       "    .dataframe tbody tr th:only-of-type {\n",
       "        vertical-align: middle;\n",
       "    }\n",
       "\n",
       "    .dataframe tbody tr th {\n",
       "        vertical-align: top;\n",
       "    }\n",
       "\n",
       "    .dataframe thead th {\n",
       "        text-align: right;\n",
       "    }\n",
       "</style>\n",
       "<table border=\"1\" class=\"dataframe\">\n",
       "  <thead>\n",
       "    <tr style=\"text-align: right;\">\n",
       "      <th></th>\n",
       "      <th>Number</th>\n",
       "      <th>Type 1</th>\n",
       "      <th>Type 2</th>\n",
       "      <th>HP</th>\n",
       "      <th>Att</th>\n",
       "      <th>Def</th>\n",
       "      <th>Spa</th>\n",
       "      <th>Spd</th>\n",
       "      <th>Spe</th>\n",
       "      <th>BST</th>\n",
       "      <th>...</th>\n",
       "      <th>Catch Rate</th>\n",
       "      <th>Legendary</th>\n",
       "      <th>Mega Evolution</th>\n",
       "      <th>Height</th>\n",
       "      <th>Weight</th>\n",
       "      <th>BMI</th>\n",
       "      <th>Abilities 1</th>\n",
       "      <th>Abilities 2</th>\n",
       "      <th>Abilities 3</th>\n",
       "      <th>Abilities 4</th>\n",
       "    </tr>\n",
       "  </thead>\n",
       "  <tbody>\n",
       "    <tr>\n",
       "      <th>0</th>\n",
       "      <td>1</td>\n",
       "      <td>Grass</td>\n",
       "      <td>Poison</td>\n",
       "      <td>45</td>\n",
       "      <td>49</td>\n",
       "      <td>49</td>\n",
       "      <td>65</td>\n",
       "      <td>65</td>\n",
       "      <td>45</td>\n",
       "      <td>318</td>\n",
       "      <td>...</td>\n",
       "      <td>45</td>\n",
       "      <td>0.0</td>\n",
       "      <td>0.0</td>\n",
       "      <td>0.7</td>\n",
       "      <td>6.9</td>\n",
       "      <td>14.1</td>\n",
       "      <td>Chlorophyll</td>\n",
       "      <td>Overgrow</td>\n",
       "      <td></td>\n",
       "      <td></td>\n",
       "    </tr>\n",
       "    <tr>\n",
       "      <th>1</th>\n",
       "      <td>2</td>\n",
       "      <td>Grass</td>\n",
       "      <td>Poison</td>\n",
       "      <td>60</td>\n",
       "      <td>62</td>\n",
       "      <td>63</td>\n",
       "      <td>80</td>\n",
       "      <td>80</td>\n",
       "      <td>60</td>\n",
       "      <td>405</td>\n",
       "      <td>...</td>\n",
       "      <td>45</td>\n",
       "      <td>0.0</td>\n",
       "      <td>0.0</td>\n",
       "      <td>1.0</td>\n",
       "      <td>13.0</td>\n",
       "      <td>13.0</td>\n",
       "      <td>Chlorophyll</td>\n",
       "      <td>Overgrow</td>\n",
       "      <td></td>\n",
       "      <td></td>\n",
       "    </tr>\n",
       "    <tr>\n",
       "      <th>2</th>\n",
       "      <td>3</td>\n",
       "      <td>Grass</td>\n",
       "      <td>Poison</td>\n",
       "      <td>80</td>\n",
       "      <td>82</td>\n",
       "      <td>83</td>\n",
       "      <td>100</td>\n",
       "      <td>100</td>\n",
       "      <td>80</td>\n",
       "      <td>525</td>\n",
       "      <td>...</td>\n",
       "      <td>45</td>\n",
       "      <td>0.0</td>\n",
       "      <td>0.0</td>\n",
       "      <td>2.0</td>\n",
       "      <td>100.0</td>\n",
       "      <td>25.0</td>\n",
       "      <td>Chlorophyll</td>\n",
       "      <td>Overgrow</td>\n",
       "      <td></td>\n",
       "      <td></td>\n",
       "    </tr>\n",
       "    <tr>\n",
       "      <th>3</th>\n",
       "      <td>3</td>\n",
       "      <td>Grass</td>\n",
       "      <td>Poison</td>\n",
       "      <td>80</td>\n",
       "      <td>100</td>\n",
       "      <td>123</td>\n",
       "      <td>122</td>\n",
       "      <td>120</td>\n",
       "      <td>80</td>\n",
       "      <td>625</td>\n",
       "      <td>...</td>\n",
       "      <td>45</td>\n",
       "      <td>0.0</td>\n",
       "      <td>1.0</td>\n",
       "      <td>2.4</td>\n",
       "      <td>155.5</td>\n",
       "      <td>27.0</td>\n",
       "      <td>ThickFat</td>\n",
       "      <td></td>\n",
       "      <td></td>\n",
       "      <td></td>\n",
       "    </tr>\n",
       "    <tr>\n",
       "      <th>4</th>\n",
       "      <td>4</td>\n",
       "      <td>Fire</td>\n",
       "      <td></td>\n",
       "      <td>39</td>\n",
       "      <td>52</td>\n",
       "      <td>43</td>\n",
       "      <td>60</td>\n",
       "      <td>50</td>\n",
       "      <td>65</td>\n",
       "      <td>309</td>\n",
       "      <td>...</td>\n",
       "      <td>45</td>\n",
       "      <td>0.0</td>\n",
       "      <td>0.0</td>\n",
       "      <td>0.6</td>\n",
       "      <td>8.5</td>\n",
       "      <td>23.6</td>\n",
       "      <td>Blaze</td>\n",
       "      <td>SolarPower</td>\n",
       "      <td></td>\n",
       "      <td></td>\n",
       "    </tr>\n",
       "  </tbody>\n",
       "</table>\n",
       "<p>5 rows × 24 columns</p>\n",
       "</div>"
      ],
      "text/plain": [
       "   Number Type 1  Type 2  HP  Att  Def  Spa  Spd  Spe  BST  ...  Catch Rate  \\\n",
       "0       1  Grass  Poison  45   49   49   65   65   45  318  ...          45   \n",
       "1       2  Grass  Poison  60   62   63   80   80   60  405  ...          45   \n",
       "2       3  Grass  Poison  80   82   83  100  100   80  525  ...          45   \n",
       "3       3  Grass  Poison  80  100  123  122  120   80  625  ...          45   \n",
       "4       4   Fire          39   52   43   60   50   65  309  ...          45   \n",
       "\n",
       "   Legendary  Mega Evolution  Height  Weight   BMI  Abilities 1  Abilities 2  \\\n",
       "0        0.0             0.0     0.7     6.9  14.1  Chlorophyll     Overgrow   \n",
       "1        0.0             0.0     1.0    13.0  13.0  Chlorophyll     Overgrow   \n",
       "2        0.0             0.0     2.0   100.0  25.0  Chlorophyll     Overgrow   \n",
       "3        0.0             1.0     2.4   155.5  27.0     ThickFat                \n",
       "4        0.0             0.0     0.6     8.5  23.6        Blaze   SolarPower   \n",
       "\n",
       "   Abilities 3  Abilities 4  \n",
       "0                            \n",
       "1                            \n",
       "2                            \n",
       "3                            \n",
       "4                            \n",
       "\n",
       "[5 rows x 24 columns]"
      ]
     },
     "execution_count": 33,
     "metadata": {},
     "output_type": "execute_result"
    }
   ],
   "source": [
    "df = df.drop('Abilities', axis=1)\n",
    "df.head()"
   ]
  },
  {
   "cell_type": "code",
   "execution_count": 34,
   "id": "6d3454b0",
   "metadata": {
    "execution": {
     "iopub.execute_input": "2022-02-04T09:45:05.784644Z",
     "iopub.status.busy": "2022-02-04T09:45:05.783561Z",
     "iopub.status.idle": "2022-02-04T09:45:05.785458Z",
     "shell.execute_reply": "2022-02-04T09:45:05.786013Z",
     "shell.execute_reply.started": "2022-02-04T04:00:37.72549Z"
    },
    "papermill": {
     "duration": 0.067983,
     "end_time": "2022-02-04T09:45:05.786182",
     "exception": false,
     "start_time": "2022-02-04T09:45:05.718199",
     "status": "completed"
    },
    "tags": []
   },
   "outputs": [],
   "source": [
    "def labeling_process(item, label_group):\n",
    "    return labeling[label_group][item]\n",
    "\n",
    "# df['Name'] = df['Name'].apply(lambda item: labeling_process(item, 'Name'))\n",
    "df['Type 1'] = df['Type 1'].apply(lambda item: labeling_process(item, 'Type'))\n",
    "df['Type 2'] = df['Type 2'].apply(lambda item: labeling_process(item, 'Type'))\n",
    "df['Abilities 1'] = df['Abilities 1'].apply(lambda item: labeling_process(item, 'Abilities'))\n",
    "df['Abilities 2'] = df['Abilities 2'].apply(lambda item: labeling_process(item, 'Abilities'))\n",
    "df['Abilities 3'] = df['Abilities 3'].apply(lambda item: labeling_process(item, 'Abilities'))\n",
    "df['Abilities 4'] = df['Abilities 4'].apply(lambda item: labeling_process(item, 'Abilities'))"
   ]
  },
  {
   "cell_type": "markdown",
   "id": "77afc06a",
   "metadata": {
    "papermill": {
     "duration": 0.05001,
     "end_time": "2022-02-04T09:45:05.887494",
     "exception": false,
     "start_time": "2022-02-04T09:45:05.837484",
     "status": "completed"
    },
    "tags": []
   },
   "source": [
    "в итоге получаем предобработанные данные"
   ]
  },
  {
   "cell_type": "code",
   "execution_count": 35,
   "id": "7eb4e2f6",
   "metadata": {
    "execution": {
     "iopub.execute_input": "2022-02-04T09:45:05.991353Z",
     "iopub.status.busy": "2022-02-04T09:45:05.990692Z",
     "iopub.status.idle": "2022-02-04T09:45:06.012711Z",
     "shell.execute_reply": "2022-02-04T09:45:06.013180Z",
     "shell.execute_reply.started": "2022-02-04T04:00:37.750954Z"
    },
    "papermill": {
     "duration": 0.076165,
     "end_time": "2022-02-04T09:45:06.013353",
     "exception": false,
     "start_time": "2022-02-04T09:45:05.937188",
     "status": "completed"
    },
    "tags": []
   },
   "outputs": [
    {
     "data": {
      "text/html": [
       "<div>\n",
       "<style scoped>\n",
       "    .dataframe tbody tr th:only-of-type {\n",
       "        vertical-align: middle;\n",
       "    }\n",
       "\n",
       "    .dataframe tbody tr th {\n",
       "        vertical-align: top;\n",
       "    }\n",
       "\n",
       "    .dataframe thead th {\n",
       "        text-align: right;\n",
       "    }\n",
       "</style>\n",
       "<table border=\"1\" class=\"dataframe\">\n",
       "  <thead>\n",
       "    <tr style=\"text-align: right;\">\n",
       "      <th></th>\n",
       "      <th>Number</th>\n",
       "      <th>Type 1</th>\n",
       "      <th>Type 2</th>\n",
       "      <th>HP</th>\n",
       "      <th>Att</th>\n",
       "      <th>Def</th>\n",
       "      <th>Spa</th>\n",
       "      <th>Spd</th>\n",
       "      <th>Spe</th>\n",
       "      <th>BST</th>\n",
       "      <th>...</th>\n",
       "      <th>Catch Rate</th>\n",
       "      <th>Legendary</th>\n",
       "      <th>Mega Evolution</th>\n",
       "      <th>Height</th>\n",
       "      <th>Weight</th>\n",
       "      <th>BMI</th>\n",
       "      <th>Abilities 1</th>\n",
       "      <th>Abilities 2</th>\n",
       "      <th>Abilities 3</th>\n",
       "      <th>Abilities 4</th>\n",
       "    </tr>\n",
       "  </thead>\n",
       "  <tbody>\n",
       "    <tr>\n",
       "      <th>0</th>\n",
       "      <td>1</td>\n",
       "      <td>27</td>\n",
       "      <td>18</td>\n",
       "      <td>45</td>\n",
       "      <td>49</td>\n",
       "      <td>49</td>\n",
       "      <td>65</td>\n",
       "      <td>65</td>\n",
       "      <td>45</td>\n",
       "      <td>318</td>\n",
       "      <td>...</td>\n",
       "      <td>45</td>\n",
       "      <td>0.0</td>\n",
       "      <td>0.0</td>\n",
       "      <td>0.7</td>\n",
       "      <td>6.9</td>\n",
       "      <td>14.1</td>\n",
       "      <td>229</td>\n",
       "      <td>81</td>\n",
       "      <td>0</td>\n",
       "      <td>0</td>\n",
       "    </tr>\n",
       "    <tr>\n",
       "      <th>1</th>\n",
       "      <td>2</td>\n",
       "      <td>27</td>\n",
       "      <td>18</td>\n",
       "      <td>60</td>\n",
       "      <td>62</td>\n",
       "      <td>63</td>\n",
       "      <td>80</td>\n",
       "      <td>80</td>\n",
       "      <td>60</td>\n",
       "      <td>405</td>\n",
       "      <td>...</td>\n",
       "      <td>45</td>\n",
       "      <td>0.0</td>\n",
       "      <td>0.0</td>\n",
       "      <td>1.0</td>\n",
       "      <td>13.0</td>\n",
       "      <td>13.0</td>\n",
       "      <td>229</td>\n",
       "      <td>81</td>\n",
       "      <td>0</td>\n",
       "      <td>0</td>\n",
       "    </tr>\n",
       "    <tr>\n",
       "      <th>2</th>\n",
       "      <td>3</td>\n",
       "      <td>27</td>\n",
       "      <td>18</td>\n",
       "      <td>80</td>\n",
       "      <td>82</td>\n",
       "      <td>83</td>\n",
       "      <td>100</td>\n",
       "      <td>100</td>\n",
       "      <td>80</td>\n",
       "      <td>525</td>\n",
       "      <td>...</td>\n",
       "      <td>45</td>\n",
       "      <td>0.0</td>\n",
       "      <td>0.0</td>\n",
       "      <td>2.0</td>\n",
       "      <td>100.0</td>\n",
       "      <td>25.0</td>\n",
       "      <td>229</td>\n",
       "      <td>81</td>\n",
       "      <td>0</td>\n",
       "      <td>0</td>\n",
       "    </tr>\n",
       "    <tr>\n",
       "      <th>3</th>\n",
       "      <td>3</td>\n",
       "      <td>27</td>\n",
       "      <td>18</td>\n",
       "      <td>80</td>\n",
       "      <td>100</td>\n",
       "      <td>123</td>\n",
       "      <td>122</td>\n",
       "      <td>120</td>\n",
       "      <td>80</td>\n",
       "      <td>625</td>\n",
       "      <td>...</td>\n",
       "      <td>45</td>\n",
       "      <td>0.0</td>\n",
       "      <td>1.0</td>\n",
       "      <td>2.4</td>\n",
       "      <td>155.5</td>\n",
       "      <td>27.0</td>\n",
       "      <td>3</td>\n",
       "      <td>0</td>\n",
       "      <td>0</td>\n",
       "      <td>0</td>\n",
       "    </tr>\n",
       "    <tr>\n",
       "      <th>4</th>\n",
       "      <td>4</td>\n",
       "      <td>35</td>\n",
       "      <td>19</td>\n",
       "      <td>39</td>\n",
       "      <td>52</td>\n",
       "      <td>43</td>\n",
       "      <td>60</td>\n",
       "      <td>50</td>\n",
       "      <td>65</td>\n",
       "      <td>309</td>\n",
       "      <td>...</td>\n",
       "      <td>45</td>\n",
       "      <td>0.0</td>\n",
       "      <td>0.0</td>\n",
       "      <td>0.6</td>\n",
       "      <td>8.5</td>\n",
       "      <td>23.6</td>\n",
       "      <td>203</td>\n",
       "      <td>9</td>\n",
       "      <td>0</td>\n",
       "      <td>0</td>\n",
       "    </tr>\n",
       "  </tbody>\n",
       "</table>\n",
       "<p>5 rows × 24 columns</p>\n",
       "</div>"
      ],
      "text/plain": [
       "   Number  Type 1  Type 2  HP  Att  Def  Spa  Spd  Spe  BST  ...  Catch Rate  \\\n",
       "0       1      27      18  45   49   49   65   65   45  318  ...          45   \n",
       "1       2      27      18  60   62   63   80   80   60  405  ...          45   \n",
       "2       3      27      18  80   82   83  100  100   80  525  ...          45   \n",
       "3       3      27      18  80  100  123  122  120   80  625  ...          45   \n",
       "4       4      35      19  39   52   43   60   50   65  309  ...          45   \n",
       "\n",
       "   Legendary  Mega Evolution  Height  Weight   BMI  Abilities 1  Abilities 2  \\\n",
       "0        0.0             0.0     0.7     6.9  14.1          229           81   \n",
       "1        0.0             0.0     1.0    13.0  13.0          229           81   \n",
       "2        0.0             0.0     2.0   100.0  25.0          229           81   \n",
       "3        0.0             1.0     2.4   155.5  27.0            3            0   \n",
       "4        0.0             0.0     0.6     8.5  23.6          203            9   \n",
       "\n",
       "   Abilities 3  Abilities 4  \n",
       "0            0            0  \n",
       "1            0            0  \n",
       "2            0            0  \n",
       "3            0            0  \n",
       "4            0            0  \n",
       "\n",
       "[5 rows x 24 columns]"
      ]
     },
     "execution_count": 35,
     "metadata": {},
     "output_type": "execute_result"
    }
   ],
   "source": [
    "df.head()"
   ]
  },
  {
   "cell_type": "code",
   "execution_count": 36,
   "id": "e4fc604c",
   "metadata": {
    "execution": {
     "iopub.execute_input": "2022-02-04T09:45:06.124047Z",
     "iopub.status.busy": "2022-02-04T09:45:06.123087Z",
     "iopub.status.idle": "2022-02-04T09:45:06.127124Z",
     "shell.execute_reply": "2022-02-04T09:45:06.127539Z",
     "shell.execute_reply.started": "2022-02-04T04:00:37.781535Z"
    },
    "papermill": {
     "duration": 0.062585,
     "end_time": "2022-02-04T09:45:06.127736",
     "exception": false,
     "start_time": "2022-02-04T09:45:06.065151",
     "status": "completed"
    },
    "tags": []
   },
   "outputs": [
    {
     "data": {
      "text/plain": [
       "Index(['Number', 'Type 1', 'Type 2', 'HP', 'Att', 'Def', 'Spa', 'Spd', 'Spe',\n",
       "       'BST', 'Mean', 'Standard Deviation', 'Generation', 'Final Evolution',\n",
       "       'Catch Rate', 'Legendary', 'Mega Evolution', 'Height', 'Weight', 'BMI',\n",
       "       'Abilities 1', 'Abilities 2', 'Abilities 3', 'Abilities 4'],\n",
       "      dtype='object')"
      ]
     },
     "execution_count": 36,
     "metadata": {},
     "output_type": "execute_result"
    }
   ],
   "source": [
    "df.columns"
   ]
  },
  {
   "cell_type": "markdown",
   "id": "5bcb9a45",
   "metadata": {
    "papermill": {
     "duration": 0.050736,
     "end_time": "2022-02-04T09:45:06.231888",
     "exception": false,
     "start_time": "2022-02-04T09:45:06.181152",
     "status": "completed"
    },
    "tags": []
   },
   "source": [
    "все данные числовые их можно использовать для обучения и тестирования"
   ]
  },
  {
   "cell_type": "code",
   "execution_count": 37,
   "id": "2490a25c",
   "metadata": {
    "execution": {
     "iopub.execute_input": "2022-02-04T09:45:06.342321Z",
     "iopub.status.busy": "2022-02-04T09:45:06.341447Z",
     "iopub.status.idle": "2022-02-04T09:45:06.345572Z",
     "shell.execute_reply": "2022-02-04T09:45:06.345083Z",
     "shell.execute_reply.started": "2022-02-04T04:00:37.789794Z"
    },
    "papermill": {
     "duration": 0.062158,
     "end_time": "2022-02-04T09:45:06.345736",
     "exception": false,
     "start_time": "2022-02-04T09:45:06.283578",
     "status": "completed"
    },
    "tags": []
   },
   "outputs": [
    {
     "data": {
      "text/plain": [
       "Number                  int64\n",
       "Type 1                  int64\n",
       "Type 2                  int64\n",
       "HP                      int64\n",
       "Att                     int64\n",
       "Def                     int64\n",
       "Spa                     int64\n",
       "Spd                     int64\n",
       "Spe                     int64\n",
       "BST                     int64\n",
       "Mean                  float64\n",
       "Standard Deviation    float64\n",
       "Generation            float64\n",
       "Final Evolution       float64\n",
       "Catch Rate              int64\n",
       "Legendary             float64\n",
       "Mega Evolution        float64\n",
       "Height                float64\n",
       "Weight                float64\n",
       "BMI                   float64\n",
       "Abilities 1             int64\n",
       "Abilities 2             int64\n",
       "Abilities 3             int64\n",
       "Abilities 4             int64\n",
       "dtype: object"
      ]
     },
     "execution_count": 37,
     "metadata": {},
     "output_type": "execute_result"
    }
   ],
   "source": [
    "df.dtypes"
   ]
  },
  {
   "cell_type": "markdown",
   "id": "60e92600",
   "metadata": {
    "papermill": {
     "duration": 0.051909,
     "end_time": "2022-02-04T09:45:06.449922",
     "exception": false,
     "start_time": "2022-02-04T09:45:06.398013",
     "status": "completed"
    },
    "tags": []
   },
   "source": [
    "# Clustering"
   ]
  },
  {
   "attachments": {
    "7948dfbd-fdf4-442f-8880-69b3678be2dc.png": {
     "image/png": "[encoded data removed]"
    },
    "cb039566-9f3c-4c22-9ee2-833392bd4a98.png": {
     "image/png": "[encoded data removed]"
    },
    "cde69574-adec-49a8-ab42-75e543d9f473.png": {
     "image/png": "[encoded data removed]"
    }
   },
   "cell_type": "markdown",
   "id": "c1a7df34",
   "metadata": {
    "execution": {
     "iopub.execute_input": "2022-01-25T12:47:39.993757Z",
     "iopub.status.busy": "2022-01-25T12:47:39.993384Z",
     "iopub.status.idle": "2022-01-25T12:47:40.095563Z",
     "shell.execute_reply": "2022-01-25T12:47:40.09437Z",
     "shell.execute_reply.started": "2022-01-25T12:47:39.993725Z"
    },
    "papermill": {
     "duration": 0.051661,
     "end_time": "2022-02-04T09:45:06.553928",
     "exception": false,
     "start_time": "2022-02-04T09:45:06.502267",
     "status": "completed"
    },
    "tags": []
   },
   "source": [
    "<h2>from sklearn import metrics</h2>\n",
    "\n",
    "<br></br>\n",
    "\n",
    "* <h3><b>silhouette_score</b></h3>\n",
    "\n",
    "<br></br>\n",
    "![image.png](attachment:7948dfbd-fdf4-442f-8880-69b3678be2dc.png)\n",
    "<br></br>\n",
    "<br></br>\n",
    "\n",
    "* <h3><b>calinski_harabasz_score</b></h3>\n",
    "\n",
    "<br></br>\n",
    "![image.png](attachment:cb039566-9f3c-4c22-9ee2-833392bd4a98.png)\n",
    "<br></br>\n",
    "<br></br>\n",
    "\n",
    "* <h3><b>davies_bouldin_score</b></h3>\n",
    "\n",
    "<br></br>\n",
    "![image.png](attachment:cde69574-adec-49a8-ab42-75e543d9f473.png)"
   ]
  },
  {
   "cell_type": "code",
   "execution_count": 38,
   "id": "750f5c08",
   "metadata": {
    "execution": {
     "iopub.execute_input": "2022-02-04T09:45:06.664067Z",
     "iopub.status.busy": "2022-02-04T09:45:06.663428Z",
     "iopub.status.idle": "2022-02-04T09:45:06.975739Z",
     "shell.execute_reply": "2022-02-04T09:45:06.974812Z",
     "shell.execute_reply.started": "2022-02-04T04:00:37.806493Z"
    },
    "papermill": {
     "duration": 0.369344,
     "end_time": "2022-02-04T09:45:06.975913",
     "exception": false,
     "start_time": "2022-02-04T09:45:06.606569",
     "status": "completed"
    },
    "tags": []
   },
   "outputs": [],
   "source": [
    "from sklearn import metrics\n",
    "\n",
    "from sklearn.cluster import KMeans\n",
    "from sklearn.mixture import GaussianMixture\n",
    "\n",
    "import matplotlib.ticker as ticker"
   ]
  },
  {
   "cell_type": "markdown",
   "id": "c96bea69",
   "metadata": {
    "papermill": {
     "duration": 0.050508,
     "end_time": "2022-02-04T09:45:07.079964",
     "exception": false,
     "start_time": "2022-02-04T09:45:07.029456",
     "status": "completed"
    },
    "tags": []
   },
   "source": [
    "стандартизируем значения атрибутов во всей выборке"
   ]
  },
  {
   "cell_type": "code",
   "execution_count": 39,
   "id": "8f5af897",
   "metadata": {
    "execution": {
     "iopub.execute_input": "2022-02-04T09:45:07.189316Z",
     "iopub.status.busy": "2022-02-04T09:45:07.188284Z",
     "iopub.status.idle": "2022-02-04T09:45:07.198568Z",
     "shell.execute_reply": "2022-02-04T09:45:07.199100Z",
     "shell.execute_reply.started": "2022-02-04T04:00:37.820339Z"
    },
    "papermill": {
     "duration": 0.066702,
     "end_time": "2022-02-04T09:45:07.199291",
     "exception": false,
     "start_time": "2022-02-04T09:45:07.132589",
     "status": "completed"
    },
    "tags": []
   },
   "outputs": [],
   "source": [
    "X = df\n",
    "X_std = preprocessing.StandardScaler().fit_transform(X)"
   ]
  },
  {
   "cell_type": "markdown",
   "id": "527f0b85",
   "metadata": {
    "papermill": {
     "duration": 0.052294,
     "end_time": "2022-02-04T09:45:07.303811",
     "exception": false,
     "start_time": "2022-02-04T09:45:07.251517",
     "status": "completed"
    },
    "tags": []
   },
   "source": [
    "выбираем кол-во кластеров с помощью трех метрик"
   ]
  },
  {
   "cell_type": "code",
   "execution_count": 40,
   "id": "b9bb9c18",
   "metadata": {
    "execution": {
     "iopub.execute_input": "2022-02-04T09:45:07.416985Z",
     "iopub.status.busy": "2022-02-04T09:45:07.415925Z",
     "iopub.status.idle": "2022-02-04T09:45:07.418905Z",
     "shell.execute_reply": "2022-02-04T09:45:07.418324Z",
     "shell.execute_reply.started": "2022-02-04T04:00:37.838693Z"
    },
    "papermill": {
     "duration": 0.060046,
     "end_time": "2022-02-04T09:45:07.419055",
     "exception": false,
     "start_time": "2022-02-04T09:45:07.359009",
     "status": "completed"
    },
    "tags": []
   },
   "outputs": [],
   "source": [
    "sizes = range(2, 18)\n",
    "figsize = (28, 15)"
   ]
  },
  {
   "cell_type": "code",
   "execution_count": 41,
   "id": "e6752fdb",
   "metadata": {
    "execution": {
     "iopub.execute_input": "2022-02-04T09:45:07.526149Z",
     "iopub.status.busy": "2022-02-04T09:45:07.525183Z",
     "iopub.status.idle": "2022-02-04T09:45:31.517025Z",
     "shell.execute_reply": "2022-02-04T09:45:31.517498Z",
     "shell.execute_reply.started": "2022-02-04T04:00:37.851908Z"
    },
    "papermill": {
     "duration": 24.046849,
     "end_time": "2022-02-04T09:45:31.517710",
     "exception": false,
     "start_time": "2022-02-04T09:45:07.470861",
     "status": "completed"
    },
    "tags": []
   },
   "outputs": [
    {
     "name": "stderr",
     "output_type": "stream",
     "text": [
      "/opt/conda/lib/python3.7/site-packages/pandas/plotting/_matplotlib/__init__.py:71: UserWarning: To output multiple subplots, the figure containing the passed axes is being cleared\n",
      "  plot_obj.generate()\n"
     ]
    },
    {
     "data": {
      "text/plain": [
       "array([[<AxesSubplot:xlabel='k'>],\n",
       "       [<AxesSubplot:xlabel='k'>],\n",
       "       [<AxesSubplot:xlabel='k'>],\n",
       "       [<AxesSubplot:xlabel='k'>]], dtype=object)"
      ]
     },
     "execution_count": 41,
     "metadata": {},
     "output_type": "execute_result"
    },
    {
     "data": {
      "image/png": "[encoded data removed]",
      "text/plain": [
       "<Figure size 2016x1080 with 4 Axes>"
      ]
     },
     "metadata": {
      "needs_background": "light"
     },
     "output_type": "display_data"
    }
   ],
   "source": [
    "sils = []\n",
    "chs = []\n",
    "dbs = []\n",
    "\n",
    "for k in sizes:\n",
    "    model = KMeans(random_state=0, n_clusters=k)\n",
    "    model.fit(X_std)\n",
    "    \n",
    "    predict = model.labels_\n",
    "    \n",
    "    sils.append(\n",
    "        metrics.silhouette_score(X, predict)\n",
    "    )\n",
    "    chs.append(\n",
    "        metrics.calinski_harabasz_score(X, predict)\n",
    "    )\n",
    "    dbs.append(\n",
    "        metrics.davies_bouldin_score(X, predict)\n",
    "    )\n",
    "\n",
    "fig, ax = plt.subplots(figsize=figsize)\n",
    "pd.DataFrame(\n",
    "    {\n",
    "        \"silhouette\": sils,\n",
    "        \"calinski\": chs,\n",
    "        \"davis\": dbs,\n",
    "        \"k\": sizes,\n",
    "    }\n",
    ").set_index('k').plot(ax=ax, subplots=True, layout=(4, 1))"
   ]
  },
  {
   "cell_type": "markdown",
   "id": "f141acef",
   "metadata": {
    "papermill": {
     "duration": 0.053686,
     "end_time": "2022-02-04T09:45:31.626510",
     "exception": false,
     "start_time": "2022-02-04T09:45:31.572824",
     "status": "completed"
    },
    "tags": []
   },
   "source": [
    "похоже что большенство этих метрик для модели KMeans согласуются на <b>6</b> кластерах"
   ]
  },
  {
   "cell_type": "code",
   "execution_count": 42,
   "id": "0a8c52e3",
   "metadata": {
    "execution": {
     "iopub.execute_input": "2022-02-04T09:45:31.744377Z",
     "iopub.status.busy": "2022-02-04T09:45:31.742439Z",
     "iopub.status.idle": "2022-02-04T09:45:45.777145Z",
     "shell.execute_reply": "2022-02-04T09:45:45.777601Z",
     "shell.execute_reply.started": "2022-02-04T04:01:02.639887Z"
    },
    "papermill": {
     "duration": 14.097426,
     "end_time": "2022-02-04T09:45:45.777786",
     "exception": false,
     "start_time": "2022-02-04T09:45:31.680360",
     "status": "completed"
    },
    "tags": []
   },
   "outputs": [
    {
     "name": "stderr",
     "output_type": "stream",
     "text": [
      "/opt/conda/lib/python3.7/site-packages/pandas/plotting/_matplotlib/__init__.py:71: UserWarning: To output multiple subplots, the figure containing the passed axes is being cleared\n",
      "  plot_obj.generate()\n"
     ]
    },
    {
     "data": {
      "text/plain": [
       "array([[<AxesSubplot:xlabel='k'>, <AxesSubplot:xlabel='k'>],\n",
       "       [<AxesSubplot:xlabel='k'>, <AxesSubplot:xlabel='k'>]], dtype=object)"
      ]
     },
     "execution_count": 42,
     "metadata": {},
     "output_type": "execute_result"
    },
    {
     "data": {
      "image/png": "[encoded data removed]",
      "text/plain": [
       "<Figure size 2016x1080 with 4 Axes>"
      ]
     },
     "metadata": {
      "needs_background": "light"
     },
     "output_type": "display_data"
    }
   ],
   "source": [
    "sils = []\n",
    "chs = []\n",
    "dbs = []\n",
    "\n",
    "for k in sizes:\n",
    "    model = GaussianMixture(n_components=k, random_state=0)\n",
    "    model.fit(X_std)\n",
    "    \n",
    "    predict = model.predict(X_std)\n",
    "    \n",
    "    sils.append(\n",
    "        metrics.silhouette_score(X, predict)\n",
    "    )\n",
    "    chs.append(\n",
    "        metrics.calinski_harabasz_score(X, predict)\n",
    "    )\n",
    "    dbs.append(\n",
    "        metrics.davies_bouldin_score(X, predict)\n",
    "    )\n",
    "\n",
    "fig, ax = plt.subplots(figsize=figsize)\n",
    "pd.DataFrame(\n",
    "    {\n",
    "        \"silhouette\": sils,\n",
    "        \"calinski\": chs,\n",
    "        \"davis\": dbs,\n",
    "        \"k\": sizes,\n",
    "    }\n",
    ").set_index('k').plot(ax=ax, subplots=True, layout=(2, 2))"
   ]
  },
  {
   "cell_type": "markdown",
   "id": "513abbff",
   "metadata": {
    "papermill": {
     "duration": 0.055992,
     "end_time": "2022-02-04T09:45:45.891614",
     "exception": false,
     "start_time": "2022-02-04T09:45:45.835622",
     "status": "completed"
    },
    "tags": []
   },
   "source": [
    "похоже что большенство этих метрик для модели GaussianMixture согласуются на <b>7</b> кластерах"
   ]
  },
  {
   "cell_type": "code",
   "execution_count": 43,
   "id": "98e8439c",
   "metadata": {
    "execution": {
     "iopub.execute_input": "2022-02-04T09:45:46.008977Z",
     "iopub.status.busy": "2022-02-04T09:45:46.008328Z",
     "iopub.status.idle": "2022-02-04T09:45:48.129332Z",
     "shell.execute_reply": "2022-02-04T09:45:48.128648Z",
     "shell.execute_reply.started": "2022-02-04T04:01:19.740026Z"
    },
    "papermill": {
     "duration": 2.18106,
     "end_time": "2022-02-04T09:45:48.129495",
     "exception": false,
     "start_time": "2022-02-04T09:45:45.948435",
     "status": "completed"
    },
    "tags": []
   },
   "outputs": [],
   "source": [
    "k2 = KMeans(random_state=0, n_clusters=6).fit(X_std)\n",
    "gm = GaussianMixture(random_state=0, n_components=7).fit(X_std)"
   ]
  },
  {
   "cell_type": "code",
   "execution_count": 44,
   "id": "aa6cf31e",
   "metadata": {
    "execution": {
     "iopub.execute_input": "2022-02-04T09:45:48.309710Z",
     "iopub.status.busy": "2022-02-04T09:45:48.308591Z",
     "iopub.status.idle": "2022-02-04T09:45:48.315166Z",
     "shell.execute_reply": "2022-02-04T09:45:48.315958Z",
     "shell.execute_reply.started": "2022-02-04T04:01:21.760023Z"
    },
    "papermill": {
     "duration": 0.080408,
     "end_time": "2022-02-04T09:45:48.316250",
     "exception": false,
     "start_time": "2022-02-04T09:45:48.235842",
     "status": "completed"
    },
    "tags": []
   },
   "outputs": [],
   "source": [
    "m1_predict = k2.labels_\n",
    "m2_predict = gm.predict(X_std)"
   ]
  },
  {
   "cell_type": "code",
   "execution_count": 45,
   "id": "d362b17c",
   "metadata": {
    "execution": {
     "iopub.execute_input": "2022-02-04T09:45:48.495806Z",
     "iopub.status.busy": "2022-02-04T09:45:48.494691Z",
     "iopub.status.idle": "2022-02-04T09:45:48.577364Z",
     "shell.execute_reply": "2022-02-04T09:45:48.577959Z",
     "shell.execute_reply.started": "2022-02-04T04:01:21.777697Z"
    },
    "papermill": {
     "duration": 0.148072,
     "end_time": "2022-02-04T09:45:48.578138",
     "exception": false,
     "start_time": "2022-02-04T09:45:48.430066",
     "status": "completed"
    },
    "tags": []
   },
   "outputs": [],
   "source": [
    "sils = {\n",
    "    \"k2\": [metrics.silhouette_score(X, m1_predict)],\n",
    "    \"gm\": [metrics.silhouette_score(X, m2_predict)]\n",
    "}\n",
    "chs = {\n",
    "    \"k2\": [metrics.calinski_harabasz_score(X, m1_predict)],\n",
    "    \"gm\": [metrics.calinski_harabasz_score(X, m2_predict)]\n",
    "}\n",
    "dbs = {\n",
    "    \"k2\": [metrics.davies_bouldin_score(X, m1_predict)],\n",
    "    \"gm\": [metrics.davies_bouldin_score(X, m2_predict)]\n",
    "}"
   ]
  },
  {
   "cell_type": "code",
   "execution_count": 46,
   "id": "f52ec7bf",
   "metadata": {
    "execution": {
     "iopub.execute_input": "2022-02-04T09:45:48.743581Z",
     "iopub.status.busy": "2022-02-04T09:45:48.742595Z",
     "iopub.status.idle": "2022-02-04T09:45:48.836066Z",
     "shell.execute_reply": "2022-02-04T09:45:48.836584Z",
     "shell.execute_reply.started": "2022-02-04T04:01:21.942255Z"
    },
    "papermill": {
     "duration": 0.165916,
     "end_time": "2022-02-04T09:45:48.836781",
     "exception": false,
     "start_time": "2022-02-04T09:45:48.670865",
     "status": "completed"
    },
    "tags": []
   },
   "outputs": [
    {
     "data": {
      "text/plain": [
       "<AxesSubplot:>"
      ]
     },
     "execution_count": 46,
     "metadata": {},
     "output_type": "execute_result"
    },
    {
     "data": {
      "image/png": "[encoded data removed]",
      "text/plain": [
       "<Figure size 432x288 with 1 Axes>"
      ]
     },
     "metadata": {
      "needs_background": "light"
     },
     "output_type": "display_data"
    }
   ],
   "source": [
    "sns.barplot(data=pd.DataFrame(sils))"
   ]
  },
  {
   "cell_type": "code",
   "execution_count": 47,
   "id": "fa785c62",
   "metadata": {
    "execution": {
     "iopub.execute_input": "2022-02-04T09:45:48.957072Z",
     "iopub.status.busy": "2022-02-04T09:45:48.956130Z",
     "iopub.status.idle": "2022-02-04T09:45:49.062970Z",
     "shell.execute_reply": "2022-02-04T09:45:49.063443Z",
     "shell.execute_reply.started": "2022-02-04T04:01:22.180965Z"
    },
    "papermill": {
     "duration": 0.167882,
     "end_time": "2022-02-04T09:45:49.063621",
     "exception": false,
     "start_time": "2022-02-04T09:45:48.895739",
     "status": "completed"
    },
    "tags": []
   },
   "outputs": [
    {
     "data": {
      "text/plain": [
       "<AxesSubplot:>"
      ]
     },
     "execution_count": 47,
     "metadata": {},
     "output_type": "execute_result"
    },
    {
     "data": {
      "image/png": "[encoded data removed]",
      "text/plain": [
       "<Figure size 432x288 with 1 Axes>"
      ]
     },
     "metadata": {
      "needs_background": "light"
     },
     "output_type": "display_data"
    }
   ],
   "source": [
    "sns.barplot(data=pd.DataFrame(chs))"
   ]
  },
  {
   "cell_type": "code",
   "execution_count": 48,
   "id": "e070d3d3",
   "metadata": {
    "execution": {
     "iopub.execute_input": "2022-02-04T09:45:49.184530Z",
     "iopub.status.busy": "2022-02-04T09:45:49.183523Z",
     "iopub.status.idle": "2022-02-04T09:45:49.285591Z",
     "shell.execute_reply": "2022-02-04T09:45:49.286116Z",
     "shell.execute_reply.started": "2022-02-04T04:01:22.356215Z"
    },
    "papermill": {
     "duration": 0.163022,
     "end_time": "2022-02-04T09:45:49.286284",
     "exception": false,
     "start_time": "2022-02-04T09:45:49.123262",
     "status": "completed"
    },
    "tags": []
   },
   "outputs": [
    {
     "data": {
      "text/plain": [
       "<AxesSubplot:>"
      ]
     },
     "execution_count": 48,
     "metadata": {},
     "output_type": "execute_result"
    },
    {
     "data": {
      "image/png": "[encoded data removed]",
      "text/plain": [
       "<Figure size 432x288 with 1 Axes>"
      ]
     },
     "metadata": {
      "needs_background": "light"
     },
     "output_type": "display_data"
    }
   ],
   "source": [
    "sns.barplot(data=pd.DataFrame(dbs))"
   ]
  },
  {
   "cell_type": "code",
   "execution_count": 49,
   "id": "1fed6343",
   "metadata": {
    "execution": {
     "iopub.execute_input": "2022-02-04T09:45:49.408573Z",
     "iopub.status.busy": "2022-02-04T09:45:49.407584Z",
     "iopub.status.idle": "2022-02-04T09:45:49.412282Z",
     "shell.execute_reply": "2022-02-04T09:45:49.411817Z",
     "shell.execute_reply.started": "2022-02-04T04:01:22.525078Z"
    },
    "papermill": {
     "duration": 0.066512,
     "end_time": "2022-02-04T09:45:49.412432",
     "exception": false,
     "start_time": "2022-02-04T09:45:49.345920",
     "status": "completed"
    },
    "tags": []
   },
   "outputs": [],
   "source": [
    "from collections import Counter"
   ]
  },
  {
   "cell_type": "code",
   "execution_count": 50,
   "id": "4b3ca404",
   "metadata": {
    "execution": {
     "iopub.execute_input": "2022-02-04T09:45:49.535757Z",
     "iopub.status.busy": "2022-02-04T09:45:49.535094Z",
     "iopub.status.idle": "2022-02-04T09:45:49.547379Z",
     "shell.execute_reply": "2022-02-04T09:45:49.546815Z",
     "shell.execute_reply.started": "2022-02-04T04:01:22.535476Z"
    },
    "papermill": {
     "duration": 0.076549,
     "end_time": "2022-02-04T09:45:49.547517",
     "exception": false,
     "start_time": "2022-02-04T09:45:49.470968",
     "status": "completed"
    },
    "tags": []
   },
   "outputs": [],
   "source": [
    "from sortedcontainers import SortedDict"
   ]
  },
  {
   "cell_type": "code",
   "execution_count": 51,
   "id": "231b4e6d",
   "metadata": {
    "execution": {
     "iopub.execute_input": "2022-02-04T09:45:49.668544Z",
     "iopub.status.busy": "2022-02-04T09:45:49.667584Z",
     "iopub.status.idle": "2022-02-04T09:45:49.673530Z",
     "shell.execute_reply": "2022-02-04T09:45:49.673043Z",
     "shell.execute_reply.started": "2022-02-04T04:01:22.547907Z"
    },
    "papermill": {
     "duration": 0.067401,
     "end_time": "2022-02-04T09:45:49.673700",
     "exception": false,
     "start_time": "2022-02-04T09:45:49.606299",
     "status": "completed"
    },
    "tags": []
   },
   "outputs": [],
   "source": [
    "counts = {}\n",
    "\n",
    "counts['k2'] = dict(Counter(m1_predict))\n",
    "counts['gm'] = dict(Counter(m2_predict))"
   ]
  },
  {
   "cell_type": "code",
   "execution_count": 52,
   "id": "9e2db500",
   "metadata": {
    "execution": {
     "iopub.execute_input": "2022-02-04T09:45:49.796370Z",
     "iopub.status.busy": "2022-02-04T09:45:49.794118Z",
     "iopub.status.idle": "2022-02-04T09:45:49.799560Z",
     "shell.execute_reply": "2022-02-04T09:45:49.799037Z",
     "shell.execute_reply.started": "2022-02-04T04:01:22.563808Z"
    },
    "papermill": {
     "duration": 0.067305,
     "end_time": "2022-02-04T09:45:49.799747",
     "exception": false,
     "start_time": "2022-02-04T09:45:49.732442",
     "status": "completed"
    },
    "tags": []
   },
   "outputs": [],
   "source": [
    "for counter in counts:\n",
    "    for cluster in counts[counter]:\n",
    "        counts[counter][cluster] = [counts[counter][cluster]]"
   ]
  },
  {
   "cell_type": "code",
   "execution_count": 53,
   "id": "76519c25",
   "metadata": {
    "execution": {
     "iopub.execute_input": "2022-02-04T09:45:49.925860Z",
     "iopub.status.busy": "2022-02-04T09:45:49.924860Z",
     "iopub.status.idle": "2022-02-04T09:45:50.070179Z",
     "shell.execute_reply": "2022-02-04T09:45:50.070592Z",
     "shell.execute_reply.started": "2022-02-04T04:01:22.580192Z"
    },
    "papermill": {
     "duration": 0.212101,
     "end_time": "2022-02-04T09:45:50.070794",
     "exception": false,
     "start_time": "2022-02-04T09:45:49.858693",
     "status": "completed"
    },
    "tags": []
   },
   "outputs": [
    {
     "data": {
      "text/plain": [
       "<AxesSubplot:>"
      ]
     },
     "execution_count": 53,
     "metadata": {},
     "output_type": "execute_result"
    },
    {
     "data": {
      "image/png": "[encoded data removed]",
      "text/plain": [
       "<Figure size 432x288 with 1 Axes>"
      ]
     },
     "metadata": {
      "needs_background": "light"
     },
     "output_type": "display_data"
    }
   ],
   "source": [
    "sns.barplot(data=pd.DataFrame(SortedDict(counts['k2'])))"
   ]
  },
  {
   "cell_type": "code",
   "execution_count": 54,
   "id": "72977a45",
   "metadata": {
    "execution": {
     "iopub.execute_input": "2022-02-04T09:45:50.195051Z",
     "iopub.status.busy": "2022-02-04T09:45:50.194054Z",
     "iopub.status.idle": "2022-02-04T09:45:50.351821Z",
     "shell.execute_reply": "2022-02-04T09:45:50.351149Z",
     "shell.execute_reply.started": "2022-02-04T04:01:22.777479Z"
    },
    "papermill": {
     "duration": 0.221051,
     "end_time": "2022-02-04T09:45:50.351998",
     "exception": false,
     "start_time": "2022-02-04T09:45:50.130947",
     "status": "completed"
    },
    "tags": []
   },
   "outputs": [
    {
     "data": {
      "text/plain": [
       "<AxesSubplot:>"
      ]
     },
     "execution_count": 54,
     "metadata": {},
     "output_type": "execute_result"
    },
    {
     "data": {
      "image/png": "[encoded data removed]",
      "text/plain": [
       "<Figure size 432x288 with 1 Axes>"
      ]
     },
     "metadata": {
      "needs_background": "light"
     },
     "output_type": "display_data"
    }
   ],
   "source": [
    "sns.barplot(data=pd.DataFrame(SortedDict(counts['gm'])))"
   ]
  },
  {
   "cell_type": "markdown",
   "id": "a5ea5710",
   "metadata": {
    "papermill": {
     "duration": 0.059781,
     "end_time": "2022-02-04T09:45:50.473867",
     "exception": false,
     "start_time": "2022-02-04T09:45:50.414086",
     "status": "completed"
    },
    "tags": []
   },
   "source": [
    "KMeans the best"
   ]
  },
  {
   "cell_type": "code",
   "execution_count": null,
   "id": "e7965378",
   "metadata": {
    "papermill": {
     "duration": 0.059875,
     "end_time": "2022-02-04T09:45:50.593745",
     "exception": false,
     "start_time": "2022-02-04T09:45:50.533870",
     "status": "completed"
    },
    "tags": []
   },
   "outputs": [],
   "source": []
  }
 ],
 "metadata": {
  "kernelspec": {
   "display_name": "Python 3",
   "language": "python",
   "name": "python3"
  },
  "language_info": {
   "codemirror_mode": {
    "name": "ipython",
    "version": 3
   },
   "file_extension": ".py",
   "mimetype": "text/x-python",
   "name": "python",
   "nbconvert_exporter": "python",
   "pygments_lexer": "ipython3",
   "version": "3.7.12"
  },
  "papermill": {
   "default_parameters": {},
   "duration": 61.04063,
   "end_time": "2022-02-04T09:45:51.465151",
   "environment_variables": {},
   "exception": null,
   "input_path": "__notebook__.ipynb",
   "output_path": "__notebook__.ipynb",
   "parameters": {},
   "start_time": "2022-02-04T09:44:50.424521",
   "version": "2.3.3"
  }
 },
 "nbformat": 4,
 "nbformat_minor": 5
}
